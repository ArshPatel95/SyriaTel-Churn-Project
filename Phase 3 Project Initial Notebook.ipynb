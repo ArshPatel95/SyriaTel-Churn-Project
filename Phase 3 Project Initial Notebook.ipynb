{
 "cells": [
  {
   "cell_type": "markdown",
   "metadata": {},
   "source": [
    "# SyriaTel Customer Churn Prediction Model"
   ]
  },
  {
   "cell_type": "markdown",
   "metadata": {},
   "source": [
    "## Intial Setup"
   ]
  },
  {
   "cell_type": "code",
   "execution_count": 1,
   "metadata": {},
   "outputs": [],
   "source": [
    "import pandas as pd\n",
    "import numpy as np\n",
    "import matplotlib.pyplot as plt\n",
    "import seaborn as sns\n",
    "\n",
    "from sklearn.preprocessing import OneHotEncoder\n",
    "from sklearn.preprocessing import StandardScaler\n",
    "from sklearn.impute import SimpleImputer\n",
    "from sklearn.compose import ColumnTransformer\n",
    "from sklearn.metrics import precision_score, recall_score, f1_score, accuracy_score, classification_report, plot_confusion_matrix\n",
    "from sklearn.model_selection import train_test_split, GridSearchCV\n",
    "from sklearn.model_selection import KFold\n",
    "\n",
    "from sklearn.linear_model import LogisticRegression\n",
    "from sklearn.ensemble import BaggingClassifier\n",
    "from sklearn.tree import DecisionTreeClassifier\n",
    "from sklearn.ensemble import RandomForestClassifier\n",
    "from sklearn.model_selection import GridSearchCV\n",
    "\n",
    "from sklearn.pipeline import Pipeline\n",
    "from sklearn import set_config\n",
    "set_config(display= 'diagram')\n",
    "\n",
    "from imblearn.over_sampling import SMOTE, ADASYN\n",
    "\n",
    "import warnings\n",
    "warnings.filterwarnings('ignore')"
   ]
  },
  {
   "cell_type": "code",
   "execution_count": 2,
   "metadata": {},
   "outputs": [],
   "source": [
    "df_original = pd.read_csv('/Users/Arsh/Downloads/bigml_59c28831336c6604c800002a.csv')"
   ]
  },
  {
   "cell_type": "code",
   "execution_count": 3,
   "metadata": {},
   "outputs": [],
   "source": [
    "from copy import deepcopy\n",
    "df = deepcopy(df_original)"
   ]
  },
  {
   "cell_type": "code",
   "execution_count": 4,
   "metadata": {},
   "outputs": [
    {
     "data": {
      "text/html": [
       "<div>\n",
       "<style scoped>\n",
       "    .dataframe tbody tr th:only-of-type {\n",
       "        vertical-align: middle;\n",
       "    }\n",
       "\n",
       "    .dataframe tbody tr th {\n",
       "        vertical-align: top;\n",
       "    }\n",
       "\n",
       "    .dataframe thead th {\n",
       "        text-align: right;\n",
       "    }\n",
       "</style>\n",
       "<table border=\"1\" class=\"dataframe\">\n",
       "  <thead>\n",
       "    <tr style=\"text-align: right;\">\n",
       "      <th></th>\n",
       "      <th>state</th>\n",
       "      <th>account length</th>\n",
       "      <th>area code</th>\n",
       "      <th>phone number</th>\n",
       "      <th>international plan</th>\n",
       "      <th>voice mail plan</th>\n",
       "      <th>number vmail messages</th>\n",
       "      <th>total day minutes</th>\n",
       "      <th>total day calls</th>\n",
       "      <th>total day charge</th>\n",
       "      <th>...</th>\n",
       "      <th>total eve calls</th>\n",
       "      <th>total eve charge</th>\n",
       "      <th>total night minutes</th>\n",
       "      <th>total night calls</th>\n",
       "      <th>total night charge</th>\n",
       "      <th>total intl minutes</th>\n",
       "      <th>total intl calls</th>\n",
       "      <th>total intl charge</th>\n",
       "      <th>customer service calls</th>\n",
       "      <th>churn</th>\n",
       "    </tr>\n",
       "  </thead>\n",
       "  <tbody>\n",
       "    <tr>\n",
       "      <th>0</th>\n",
       "      <td>KS</td>\n",
       "      <td>128</td>\n",
       "      <td>415</td>\n",
       "      <td>382-4657</td>\n",
       "      <td>no</td>\n",
       "      <td>yes</td>\n",
       "      <td>25</td>\n",
       "      <td>265.1</td>\n",
       "      <td>110</td>\n",
       "      <td>45.07</td>\n",
       "      <td>...</td>\n",
       "      <td>99</td>\n",
       "      <td>16.78</td>\n",
       "      <td>244.7</td>\n",
       "      <td>91</td>\n",
       "      <td>11.01</td>\n",
       "      <td>10.0</td>\n",
       "      <td>3</td>\n",
       "      <td>2.70</td>\n",
       "      <td>1</td>\n",
       "      <td>False</td>\n",
       "    </tr>\n",
       "    <tr>\n",
       "      <th>1</th>\n",
       "      <td>OH</td>\n",
       "      <td>107</td>\n",
       "      <td>415</td>\n",
       "      <td>371-7191</td>\n",
       "      <td>no</td>\n",
       "      <td>yes</td>\n",
       "      <td>26</td>\n",
       "      <td>161.6</td>\n",
       "      <td>123</td>\n",
       "      <td>27.47</td>\n",
       "      <td>...</td>\n",
       "      <td>103</td>\n",
       "      <td>16.62</td>\n",
       "      <td>254.4</td>\n",
       "      <td>103</td>\n",
       "      <td>11.45</td>\n",
       "      <td>13.7</td>\n",
       "      <td>3</td>\n",
       "      <td>3.70</td>\n",
       "      <td>1</td>\n",
       "      <td>False</td>\n",
       "    </tr>\n",
       "    <tr>\n",
       "      <th>2</th>\n",
       "      <td>NJ</td>\n",
       "      <td>137</td>\n",
       "      <td>415</td>\n",
       "      <td>358-1921</td>\n",
       "      <td>no</td>\n",
       "      <td>no</td>\n",
       "      <td>0</td>\n",
       "      <td>243.4</td>\n",
       "      <td>114</td>\n",
       "      <td>41.38</td>\n",
       "      <td>...</td>\n",
       "      <td>110</td>\n",
       "      <td>10.30</td>\n",
       "      <td>162.6</td>\n",
       "      <td>104</td>\n",
       "      <td>7.32</td>\n",
       "      <td>12.2</td>\n",
       "      <td>5</td>\n",
       "      <td>3.29</td>\n",
       "      <td>0</td>\n",
       "      <td>False</td>\n",
       "    </tr>\n",
       "    <tr>\n",
       "      <th>3</th>\n",
       "      <td>OH</td>\n",
       "      <td>84</td>\n",
       "      <td>408</td>\n",
       "      <td>375-9999</td>\n",
       "      <td>yes</td>\n",
       "      <td>no</td>\n",
       "      <td>0</td>\n",
       "      <td>299.4</td>\n",
       "      <td>71</td>\n",
       "      <td>50.90</td>\n",
       "      <td>...</td>\n",
       "      <td>88</td>\n",
       "      <td>5.26</td>\n",
       "      <td>196.9</td>\n",
       "      <td>89</td>\n",
       "      <td>8.86</td>\n",
       "      <td>6.6</td>\n",
       "      <td>7</td>\n",
       "      <td>1.78</td>\n",
       "      <td>2</td>\n",
       "      <td>False</td>\n",
       "    </tr>\n",
       "    <tr>\n",
       "      <th>4</th>\n",
       "      <td>OK</td>\n",
       "      <td>75</td>\n",
       "      <td>415</td>\n",
       "      <td>330-6626</td>\n",
       "      <td>yes</td>\n",
       "      <td>no</td>\n",
       "      <td>0</td>\n",
       "      <td>166.7</td>\n",
       "      <td>113</td>\n",
       "      <td>28.34</td>\n",
       "      <td>...</td>\n",
       "      <td>122</td>\n",
       "      <td>12.61</td>\n",
       "      <td>186.9</td>\n",
       "      <td>121</td>\n",
       "      <td>8.41</td>\n",
       "      <td>10.1</td>\n",
       "      <td>3</td>\n",
       "      <td>2.73</td>\n",
       "      <td>3</td>\n",
       "      <td>False</td>\n",
       "    </tr>\n",
       "  </tbody>\n",
       "</table>\n",
       "<p>5 rows × 21 columns</p>\n",
       "</div>"
      ],
      "text/plain": [
       "  state  account length  area code phone number international plan  \\\n",
       "0    KS             128        415     382-4657                 no   \n",
       "1    OH             107        415     371-7191                 no   \n",
       "2    NJ             137        415     358-1921                 no   \n",
       "3    OH              84        408     375-9999                yes   \n",
       "4    OK              75        415     330-6626                yes   \n",
       "\n",
       "  voice mail plan  number vmail messages  total day minutes  total day calls  \\\n",
       "0             yes                     25              265.1              110   \n",
       "1             yes                     26              161.6              123   \n",
       "2              no                      0              243.4              114   \n",
       "3              no                      0              299.4               71   \n",
       "4              no                      0              166.7              113   \n",
       "\n",
       "   total day charge  ...  total eve calls  total eve charge  \\\n",
       "0             45.07  ...               99             16.78   \n",
       "1             27.47  ...              103             16.62   \n",
       "2             41.38  ...              110             10.30   \n",
       "3             50.90  ...               88              5.26   \n",
       "4             28.34  ...              122             12.61   \n",
       "\n",
       "   total night minutes  total night calls  total night charge  \\\n",
       "0                244.7                 91               11.01   \n",
       "1                254.4                103               11.45   \n",
       "2                162.6                104                7.32   \n",
       "3                196.9                 89                8.86   \n",
       "4                186.9                121                8.41   \n",
       "\n",
       "   total intl minutes  total intl calls  total intl charge  \\\n",
       "0                10.0                 3               2.70   \n",
       "1                13.7                 3               3.70   \n",
       "2                12.2                 5               3.29   \n",
       "3                 6.6                 7               1.78   \n",
       "4                10.1                 3               2.73   \n",
       "\n",
       "   customer service calls  churn  \n",
       "0                       1  False  \n",
       "1                       1  False  \n",
       "2                       0  False  \n",
       "3                       2  False  \n",
       "4                       3  False  \n",
       "\n",
       "[5 rows x 21 columns]"
      ]
     },
     "execution_count": 4,
     "metadata": {},
     "output_type": "execute_result"
    }
   ],
   "source": [
    "df.head()"
   ]
  },
  {
   "cell_type": "code",
   "execution_count": 5,
   "metadata": {},
   "outputs": [
    {
     "data": {
      "text/plain": [
       "(3333, 21)"
      ]
     },
     "execution_count": 5,
     "metadata": {},
     "output_type": "execute_result"
    }
   ],
   "source": [
    "df.shape"
   ]
  },
  {
   "cell_type": "code",
   "execution_count": 6,
   "metadata": {},
   "outputs": [
    {
     "data": {
      "text/plain": [
       "state                      object\n",
       "account length              int64\n",
       "area code                   int64\n",
       "phone number               object\n",
       "international plan         object\n",
       "voice mail plan            object\n",
       "number vmail messages       int64\n",
       "total day minutes         float64\n",
       "total day calls             int64\n",
       "total day charge          float64\n",
       "total eve minutes         float64\n",
       "total eve calls             int64\n",
       "total eve charge          float64\n",
       "total night minutes       float64\n",
       "total night calls           int64\n",
       "total night charge        float64\n",
       "total intl minutes        float64\n",
       "total intl calls            int64\n",
       "total intl charge         float64\n",
       "customer service calls      int64\n",
       "churn                        bool\n",
       "dtype: object"
      ]
     },
     "execution_count": 6,
     "metadata": {},
     "output_type": "execute_result"
    }
   ],
   "source": [
    "df.dtypes"
   ]
  },
  {
   "cell_type": "code",
   "execution_count": 7,
   "metadata": {},
   "outputs": [
    {
     "data": {
      "text/plain": [
       "state                     0\n",
       "account length            0\n",
       "area code                 0\n",
       "phone number              0\n",
       "international plan        0\n",
       "voice mail plan           0\n",
       "number vmail messages     0\n",
       "total day minutes         0\n",
       "total day calls           0\n",
       "total day charge          0\n",
       "total eve minutes         0\n",
       "total eve calls           0\n",
       "total eve charge          0\n",
       "total night minutes       0\n",
       "total night calls         0\n",
       "total night charge        0\n",
       "total intl minutes        0\n",
       "total intl calls          0\n",
       "total intl charge         0\n",
       "customer service calls    0\n",
       "churn                     0\n",
       "dtype: int64"
      ]
     },
     "execution_count": 7,
     "metadata": {},
     "output_type": "execute_result"
    }
   ],
   "source": [
    "df.isna().sum()"
   ]
  },
  {
   "cell_type": "code",
   "execution_count": 8,
   "metadata": {},
   "outputs": [
    {
     "data": {
      "text/plain": [
       "WV    106\n",
       "MN     84\n",
       "NY     83\n",
       "AL     80\n",
       "WI     78\n",
       "OH     78\n",
       "OR     78\n",
       "VA     77\n",
       "WY     77\n",
       "CT     74\n",
       "ID     73\n",
       "MI     73\n",
       "VT     73\n",
       "TX     72\n",
       "UT     72\n",
       "IN     71\n",
       "MD     70\n",
       "KS     70\n",
       "NJ     68\n",
       "NC     68\n",
       "MT     68\n",
       "CO     66\n",
       "WA     66\n",
       "NV     66\n",
       "MA     65\n",
       "MS     65\n",
       "RI     65\n",
       "AZ     64\n",
       "MO     63\n",
       "FL     63\n",
       "ME     62\n",
       "NM     62\n",
       "ND     62\n",
       "NE     61\n",
       "DE     61\n",
       "OK     61\n",
       "SD     60\n",
       "SC     60\n",
       "KY     59\n",
       "IL     58\n",
       "NH     56\n",
       "AR     55\n",
       "DC     54\n",
       "GA     54\n",
       "TN     53\n",
       "HI     53\n",
       "AK     52\n",
       "LA     51\n",
       "PA     45\n",
       "IA     44\n",
       "CA     34\n",
       "Name: state, dtype: int64"
      ]
     },
     "execution_count": 8,
     "metadata": {},
     "output_type": "execute_result"
    }
   ],
   "source": [
    "(df.state.value_counts())"
   ]
  },
  {
   "cell_type": "code",
   "execution_count": 9,
   "metadata": {},
   "outputs": [
    {
     "data": {
      "text/plain": [
       "no     3010\n",
       "yes     323\n",
       "Name: international plan, dtype: int64"
      ]
     },
     "execution_count": 9,
     "metadata": {},
     "output_type": "execute_result"
    }
   ],
   "source": [
    "df['international plan'].value_counts()"
   ]
  },
  {
   "cell_type": "code",
   "execution_count": 10,
   "metadata": {},
   "outputs": [
    {
     "data": {
      "text/plain": [
       "no     2411\n",
       "yes     922\n",
       "Name: voice mail plan, dtype: int64"
      ]
     },
     "execution_count": 10,
     "metadata": {},
     "output_type": "execute_result"
    }
   ],
   "source": [
    "df['voice mail plan'].value_counts()"
   ]
  },
  {
   "cell_type": "code",
   "execution_count": 11,
   "metadata": {},
   "outputs": [
    {
     "data": {
      "text/plain": [
       "False    2850\n",
       "True      483\n",
       "Name: churn, dtype: int64"
      ]
     },
     "execution_count": 11,
     "metadata": {},
     "output_type": "execute_result"
    }
   ],
   "source": [
    "df['churn'].value_counts()"
   ]
  },
  {
   "cell_type": "code",
   "execution_count": 12,
   "metadata": {},
   "outputs": [
    {
     "data": {
      "text/plain": [
       "415    1655\n",
       "510     840\n",
       "408     838\n",
       "Name: area code, dtype: int64"
      ]
     },
     "execution_count": 12,
     "metadata": {},
     "output_type": "execute_result"
    }
   ],
   "source": [
    "df['area code'].value_counts()"
   ]
  },
  {
   "cell_type": "code",
   "execution_count": 13,
   "metadata": {},
   "outputs": [
    {
     "data": {
      "text/plain": [
       "<AxesSubplot:>"
      ]
     },
     "execution_count": 13,
     "metadata": {},
     "output_type": "execute_result"
    },
    {
     "data": {
      "image/png": "[encoded data removed]",
      "text/plain": [
       "<Figure size 2160x2160 with 2 Axes>"
      ]
     },
     "metadata": {
      "needs_background": "light"
     },
     "output_type": "display_data"
    }
   ],
   "source": [
    "plt.figure(figsize = (30,30))\n",
    "sns.heatmap(df.corr().abs(), annot = True)"
   ]
  },
  {
   "cell_type": "code",
   "execution_count": 14,
   "metadata": {},
   "outputs": [
    {
     "data": {
      "text/plain": [
       "[Text(0.5, 1.0, 'Churn and Customer Service Calls')]"
      ]
     },
     "execution_count": 14,
     "metadata": {},
     "output_type": "execute_result"
    },
    {
     "data": {
      "image/png": "[encoded data removed]",
      "text/plain": [
       "<Figure size 432x288 with 1 Axes>"
      ]
     },
     "metadata": {
      "needs_background": "light"
     },
     "output_type": "display_data"
    }
   ],
   "source": [
    "sns.boxplot( x=df[\"churn\"], y=df[\"customer service calls\"]).set(title='Churn and Customer Service Calls')"
   ]
  },
  {
   "cell_type": "code",
   "execution_count": 15,
   "metadata": {},
   "outputs": [],
   "source": [
    "# Clearly theree is little collinearity between customer churn and the other variables in the spreadsheet. "
   ]
  },
  {
   "cell_type": "markdown",
   "metadata": {},
   "source": [
    "## Baseline Model "
   ]
  },
  {
   "cell_type": "code",
   "execution_count": 16,
   "metadata": {},
   "outputs": [],
   "source": [
    "# This baseline will just use the numerical columns provided. Encoding the nominal columns, such as state and area code will be done later. "
   ]
  },
  {
   "cell_type": "code",
   "execution_count": 17,
   "metadata": {},
   "outputs": [],
   "source": [
    "df_base = df.drop(columns = ['state', 'area code', 'phone number', 'international plan', 'voice mail plan'])"
   ]
  },
  {
   "cell_type": "code",
   "execution_count": 18,
   "metadata": {},
   "outputs": [],
   "source": [
    "y1 = df_base['churn']\n",
    "X1 = df_base.drop('churn', axis=1)\n",
    "\n",
    "# Split into training and test sets\n",
    "X_train1, X_test1, y_train1, y_test1 = train_test_split(X1, y1, test_size=0.30, random_state=20)"
   ]
  },
  {
   "cell_type": "code",
   "execution_count": 19,
   "metadata": {},
   "outputs": [
    {
     "data": {
      "text/plain": [
       "array([False, False, False, False, False, False,  True, False, False,\n",
       "       False, False, False, False, False, False, False, False, False,\n",
       "       False, False, False, False, False, False, False, False, False,\n",
       "       False, False, False, False, False, False, False, False, False,\n",
       "       False, False, False, False, False, False, False, False, False,\n",
       "       False, False, False, False, False, False, False, False, False,\n",
       "       False, False, False, False, False, False, False, False, False,\n",
       "       False, False, False, False, False, False, False, False, False,\n",
       "       False, False, False, False, False, False, False, False, False,\n",
       "       False, False, False, False, False, False, False, False, False,\n",
       "        True, False, False, False, False, False, False, False, False,\n",
       "       False, False, False, False, False, False, False, False, False,\n",
       "       False, False, False, False, False, False, False, False, False,\n",
       "       False, False, False, False, False, False, False, False, False,\n",
       "       False, False, False, False, False, False, False, False, False,\n",
       "       False, False, False, False, False, False, False, False, False,\n",
       "       False, False, False, False, False, False, False, False, False,\n",
       "       False, False, False, False, False, False, False, False, False,\n",
       "       False, False, False, False,  True, False, False, False, False,\n",
       "        True, False, False, False,  True, False, False, False, False,\n",
       "       False, False, False, False, False, False, False, False, False,\n",
       "       False,  True, False, False, False, False, False, False, False,\n",
       "       False, False, False, False, False, False, False, False, False,\n",
       "       False, False, False, False, False, False, False, False, False,\n",
       "       False, False, False, False, False, False, False, False,  True,\n",
       "       False, False, False, False, False, False,  True, False, False,\n",
       "       False, False, False, False, False, False, False, False, False,\n",
       "       False, False, False, False, False, False, False, False, False,\n",
       "       False, False, False, False, False, False, False,  True, False,\n",
       "       False, False, False, False, False, False, False, False, False,\n",
       "        True, False, False,  True, False, False, False, False, False,\n",
       "       False, False, False, False, False, False, False, False, False,\n",
       "       False, False, False, False, False, False, False, False,  True,\n",
       "       False, False, False, False, False, False, False, False, False,\n",
       "       False, False, False, False, False, False, False, False, False,\n",
       "       False, False, False, False, False, False, False, False, False,\n",
       "       False, False,  True, False, False, False, False, False, False,\n",
       "       False, False, False, False, False, False, False, False, False,\n",
       "       False, False, False, False, False, False, False, False, False,\n",
       "       False, False, False, False, False, False, False, False, False,\n",
       "       False, False, False, False, False, False, False, False, False,\n",
       "       False, False, False, False, False, False, False, False, False,\n",
       "       False, False, False, False, False, False, False, False, False,\n",
       "       False, False, False,  True, False, False, False, False, False,\n",
       "       False, False, False, False, False, False, False, False, False,\n",
       "       False, False, False, False, False, False, False, False, False,\n",
       "       False, False, False, False, False, False, False, False, False,\n",
       "       False, False, False, False, False, False, False, False, False,\n",
       "       False, False, False,  True, False, False, False, False, False,\n",
       "       False, False, False, False, False, False, False, False, False,\n",
       "       False, False, False, False, False, False, False, False, False,\n",
       "       False,  True, False, False, False, False, False, False, False,\n",
       "       False, False, False, False, False, False, False, False, False,\n",
       "       False, False, False, False, False, False, False, False, False,\n",
       "       False, False, False, False, False, False, False, False, False,\n",
       "       False, False, False, False, False, False, False, False, False,\n",
       "       False, False, False, False, False, False, False, False, False,\n",
       "       False, False, False, False, False, False, False, False, False,\n",
       "       False, False, False, False, False, False, False, False, False,\n",
       "       False, False, False, False, False, False, False, False, False,\n",
       "       False, False, False, False, False, False, False, False, False,\n",
       "       False, False, False, False, False, False, False, False, False,\n",
       "       False, False, False, False, False, False, False, False, False,\n",
       "       False, False, False, False, False, False, False, False, False,\n",
       "       False, False, False, False, False, False, False, False, False,\n",
       "       False, False, False, False,  True, False, False, False, False,\n",
       "       False, False, False, False, False, False, False, False, False,\n",
       "       False, False, False, False, False, False, False, False, False,\n",
       "       False, False, False, False, False, False, False, False, False,\n",
       "       False, False, False, False, False, False, False, False, False,\n",
       "       False, False, False, False, False, False, False, False, False,\n",
       "       False, False, False, False, False, False, False, False, False,\n",
       "       False, False, False, False, False, False, False, False, False,\n",
       "       False, False, False, False, False, False, False, False, False,\n",
       "       False,  True, False, False, False, False, False, False, False,\n",
       "       False, False, False, False, False, False, False, False, False,\n",
       "       False, False, False, False, False, False, False, False, False,\n",
       "        True, False, False, False, False, False, False, False, False,\n",
       "       False, False, False, False, False, False, False, False, False,\n",
       "       False, False, False, False, False, False, False, False, False,\n",
       "       False, False, False, False, False, False, False, False, False,\n",
       "       False, False, False, False, False, False, False, False, False,\n",
       "       False, False, False, False, False, False, False, False, False,\n",
       "       False, False, False, False, False,  True, False,  True, False,\n",
       "       False, False, False, False, False, False, False, False, False,\n",
       "       False, False, False, False, False, False, False, False, False,\n",
       "       False, False, False, False, False, False, False, False, False,\n",
       "       False, False, False, False, False, False, False, False, False,\n",
       "       False, False, False, False, False, False, False, False, False,\n",
       "       False, False, False, False, False, False, False, False, False,\n",
       "       False, False, False, False, False, False, False, False,  True,\n",
       "       False, False, False, False, False, False, False, False, False,\n",
       "       False, False, False, False, False, False, False, False, False,\n",
       "       False, False, False, False, False, False, False, False, False,\n",
       "       False, False, False, False, False, False, False, False, False,\n",
       "       False, False, False, False, False, False, False,  True, False,\n",
       "       False, False, False, False, False, False, False, False, False,\n",
       "       False, False, False, False, False, False, False, False, False,\n",
       "       False, False, False, False, False, False, False, False, False,\n",
       "       False, False, False, False, False, False, False, False, False,\n",
       "       False, False, False, False, False, False, False, False, False,\n",
       "       False,  True,  True, False, False, False, False, False, False,\n",
       "       False, False, False, False, False, False, False, False, False,\n",
       "       False, False, False, False, False, False, False, False, False,\n",
       "       False, False, False, False, False, False, False, False, False,\n",
       "       False, False, False, False, False, False,  True, False, False,\n",
       "        True, False, False, False, False, False, False, False, False,\n",
       "       False, False, False, False, False, False, False, False, False,\n",
       "       False, False, False, False, False, False, False, False, False,\n",
       "       False, False, False, False, False, False, False, False, False,\n",
       "       False, False, False, False, False, False, False, False, False,\n",
       "       False])"
      ]
     },
     "execution_count": 19,
     "metadata": {},
     "output_type": "execute_result"
    }
   ],
   "source": [
    "steps = [('std_scaler', StandardScaler()),\n",
    "        ('logreg', LogisticRegression(random_state=15))]\n",
    "\n",
    "pipeline = Pipeline(steps)\n",
    "\n",
    "\n",
    "# Train the pipeline (tranformations & predictor)\n",
    "pipeline.fit(X_train1, y_train1)\n",
    "\n",
    "# Predict using the pipeline (includes the transfomers & trained predictor)\n",
    "predicted1 = pipeline.predict(X_test1)\n",
    "predicted1"
   ]
  },
  {
   "cell_type": "code",
   "execution_count": 20,
   "metadata": {},
   "outputs": [
    {
     "name": "stdout",
     "output_type": "stream",
     "text": [
      "              precision    recall  f1-score   support\n",
      "\n",
      "       False       0.87      0.99      0.92       858\n",
      "        True       0.56      0.11      0.18       142\n",
      "\n",
      "    accuracy                           0.86      1000\n",
      "   macro avg       0.71      0.55      0.55      1000\n",
      "weighted avg       0.82      0.86      0.82      1000\n",
      "\n"
     ]
    }
   ],
   "source": [
    "print(classification_report(y_test1, predicted1))"
   ]
  },
  {
   "cell_type": "code",
   "execution_count": 21,
   "metadata": {},
   "outputs": [
    {
     "data": {
      "text/plain": [
       "<sklearn.metrics._plot.confusion_matrix.ConfusionMatrixDisplay at 0x7fdd08101760>"
      ]
     },
     "execution_count": 21,
     "metadata": {},
     "output_type": "execute_result"
    },
    {
     "data": {
      "image/png": "[encoded data removed]",
      "text/plain": [
       "<Figure size 432x288 with 2 Axes>"
      ]
     },
     "metadata": {
      "needs_background": "light"
     },
     "output_type": "display_data"
    }
   ],
   "source": [
    "plot_confusion_matrix(pipeline, X_test1, y_test1)"
   ]
  },
  {
   "cell_type": "code",
   "execution_count": 22,
   "metadata": {},
   "outputs": [
    {
     "data": {
      "text/plain": [
       "142"
      ]
     },
     "execution_count": 22,
     "metadata": {},
     "output_type": "execute_result"
    }
   ],
   "source": [
    "y_test1.sum() # Number of true values in y_test, which has a 1000 rows and are booolean values."
   ]
  },
  {
   "cell_type": "code",
   "execution_count": 23,
   "metadata": {},
   "outputs": [],
   "source": [
    "# Ah. This makes sense, because of class imbalance, the model has trouble predicting True values"
   ]
  },
  {
   "cell_type": "code",
   "execution_count": 24,
   "metadata": {},
   "outputs": [],
   "source": [
    "# Time to do some data wrangling. "
   ]
  },
  {
   "cell_type": "markdown",
   "metadata": {},
   "source": [
    "# Data Wrangling"
   ]
  },
  {
   "cell_type": "code",
   "execution_count": 25,
   "metadata": {},
   "outputs": [],
   "source": [
    "# First I will convert all my object columns into numerical columns."
   ]
  },
  {
   "cell_type": "code",
   "execution_count": 26,
   "metadata": {},
   "outputs": [],
   "source": [
    "df.loc[df['international plan'] == 'no', 'international_plan'] = 0\n",
    "df.loc[df['international plan'] == 'yes', 'international_plan'] = 1\n",
    "df['international_plan'] = df['international_plan'].astype(int)\n",
    "df.loc[df['voice mail plan'] == 'no', 'voice_mail_plan'] = 0\n",
    "df.loc[df['voice mail plan'] == 'yes', 'voice_mail_plan'] = 1\n",
    "df['voice_mail_plan'] = df['voice_mail_plan'].astype(int)\n",
    "df.loc[df['churn'] == False, 'churn_num'] = 0\n",
    "df.loc[df['churn'] == True, 'churn_num'] = 1\n",
    "df['churn_num'] = df['churn_num'].astype(int)"
   ]
  },
  {
   "cell_type": "code",
   "execution_count": 27,
   "metadata": {},
   "outputs": [
    {
     "data": {
      "text/html": [
       "<div>\n",
       "<style scoped>\n",
       "    .dataframe tbody tr th:only-of-type {\n",
       "        vertical-align: middle;\n",
       "    }\n",
       "\n",
       "    .dataframe tbody tr th {\n",
       "        vertical-align: top;\n",
       "    }\n",
       "\n",
       "    .dataframe thead th {\n",
       "        text-align: right;\n",
       "    }\n",
       "</style>\n",
       "<table border=\"1\" class=\"dataframe\">\n",
       "  <thead>\n",
       "    <tr style=\"text-align: right;\">\n",
       "      <th></th>\n",
       "      <th>state</th>\n",
       "      <th>account length</th>\n",
       "      <th>area code</th>\n",
       "      <th>phone number</th>\n",
       "      <th>international plan</th>\n",
       "      <th>voice mail plan</th>\n",
       "      <th>number vmail messages</th>\n",
       "      <th>total day minutes</th>\n",
       "      <th>total day calls</th>\n",
       "      <th>total day charge</th>\n",
       "      <th>...</th>\n",
       "      <th>total night calls</th>\n",
       "      <th>total night charge</th>\n",
       "      <th>total intl minutes</th>\n",
       "      <th>total intl calls</th>\n",
       "      <th>total intl charge</th>\n",
       "      <th>customer service calls</th>\n",
       "      <th>churn</th>\n",
       "      <th>international_plan</th>\n",
       "      <th>voice_mail_plan</th>\n",
       "      <th>churn_num</th>\n",
       "    </tr>\n",
       "  </thead>\n",
       "  <tbody>\n",
       "    <tr>\n",
       "      <th>0</th>\n",
       "      <td>KS</td>\n",
       "      <td>128</td>\n",
       "      <td>415</td>\n",
       "      <td>382-4657</td>\n",
       "      <td>no</td>\n",
       "      <td>yes</td>\n",
       "      <td>25</td>\n",
       "      <td>265.1</td>\n",
       "      <td>110</td>\n",
       "      <td>45.07</td>\n",
       "      <td>...</td>\n",
       "      <td>91</td>\n",
       "      <td>11.01</td>\n",
       "      <td>10.0</td>\n",
       "      <td>3</td>\n",
       "      <td>2.70</td>\n",
       "      <td>1</td>\n",
       "      <td>False</td>\n",
       "      <td>0</td>\n",
       "      <td>1</td>\n",
       "      <td>0</td>\n",
       "    </tr>\n",
       "    <tr>\n",
       "      <th>1</th>\n",
       "      <td>OH</td>\n",
       "      <td>107</td>\n",
       "      <td>415</td>\n",
       "      <td>371-7191</td>\n",
       "      <td>no</td>\n",
       "      <td>yes</td>\n",
       "      <td>26</td>\n",
       "      <td>161.6</td>\n",
       "      <td>123</td>\n",
       "      <td>27.47</td>\n",
       "      <td>...</td>\n",
       "      <td>103</td>\n",
       "      <td>11.45</td>\n",
       "      <td>13.7</td>\n",
       "      <td>3</td>\n",
       "      <td>3.70</td>\n",
       "      <td>1</td>\n",
       "      <td>False</td>\n",
       "      <td>0</td>\n",
       "      <td>1</td>\n",
       "      <td>0</td>\n",
       "    </tr>\n",
       "    <tr>\n",
       "      <th>2</th>\n",
       "      <td>NJ</td>\n",
       "      <td>137</td>\n",
       "      <td>415</td>\n",
       "      <td>358-1921</td>\n",
       "      <td>no</td>\n",
       "      <td>no</td>\n",
       "      <td>0</td>\n",
       "      <td>243.4</td>\n",
       "      <td>114</td>\n",
       "      <td>41.38</td>\n",
       "      <td>...</td>\n",
       "      <td>104</td>\n",
       "      <td>7.32</td>\n",
       "      <td>12.2</td>\n",
       "      <td>5</td>\n",
       "      <td>3.29</td>\n",
       "      <td>0</td>\n",
       "      <td>False</td>\n",
       "      <td>0</td>\n",
       "      <td>0</td>\n",
       "      <td>0</td>\n",
       "    </tr>\n",
       "    <tr>\n",
       "      <th>3</th>\n",
       "      <td>OH</td>\n",
       "      <td>84</td>\n",
       "      <td>408</td>\n",
       "      <td>375-9999</td>\n",
       "      <td>yes</td>\n",
       "      <td>no</td>\n",
       "      <td>0</td>\n",
       "      <td>299.4</td>\n",
       "      <td>71</td>\n",
       "      <td>50.90</td>\n",
       "      <td>...</td>\n",
       "      <td>89</td>\n",
       "      <td>8.86</td>\n",
       "      <td>6.6</td>\n",
       "      <td>7</td>\n",
       "      <td>1.78</td>\n",
       "      <td>2</td>\n",
       "      <td>False</td>\n",
       "      <td>1</td>\n",
       "      <td>0</td>\n",
       "      <td>0</td>\n",
       "    </tr>\n",
       "    <tr>\n",
       "      <th>4</th>\n",
       "      <td>OK</td>\n",
       "      <td>75</td>\n",
       "      <td>415</td>\n",
       "      <td>330-6626</td>\n",
       "      <td>yes</td>\n",
       "      <td>no</td>\n",
       "      <td>0</td>\n",
       "      <td>166.7</td>\n",
       "      <td>113</td>\n",
       "      <td>28.34</td>\n",
       "      <td>...</td>\n",
       "      <td>121</td>\n",
       "      <td>8.41</td>\n",
       "      <td>10.1</td>\n",
       "      <td>3</td>\n",
       "      <td>2.73</td>\n",
       "      <td>3</td>\n",
       "      <td>False</td>\n",
       "      <td>1</td>\n",
       "      <td>0</td>\n",
       "      <td>0</td>\n",
       "    </tr>\n",
       "  </tbody>\n",
       "</table>\n",
       "<p>5 rows × 24 columns</p>\n",
       "</div>"
      ],
      "text/plain": [
       "  state  account length  area code phone number international plan  \\\n",
       "0    KS             128        415     382-4657                 no   \n",
       "1    OH             107        415     371-7191                 no   \n",
       "2    NJ             137        415     358-1921                 no   \n",
       "3    OH              84        408     375-9999                yes   \n",
       "4    OK              75        415     330-6626                yes   \n",
       "\n",
       "  voice mail plan  number vmail messages  total day minutes  total day calls  \\\n",
       "0             yes                     25              265.1              110   \n",
       "1             yes                     26              161.6              123   \n",
       "2              no                      0              243.4              114   \n",
       "3              no                      0              299.4               71   \n",
       "4              no                      0              166.7              113   \n",
       "\n",
       "   total day charge  ...  total night calls  total night charge  \\\n",
       "0             45.07  ...                 91               11.01   \n",
       "1             27.47  ...                103               11.45   \n",
       "2             41.38  ...                104                7.32   \n",
       "3             50.90  ...                 89                8.86   \n",
       "4             28.34  ...                121                8.41   \n",
       "\n",
       "   total intl minutes  total intl calls  total intl charge  \\\n",
       "0                10.0                 3               2.70   \n",
       "1                13.7                 3               3.70   \n",
       "2                12.2                 5               3.29   \n",
       "3                 6.6                 7               1.78   \n",
       "4                10.1                 3               2.73   \n",
       "\n",
       "   customer service calls  churn  international_plan  voice_mail_plan  \\\n",
       "0                       1  False                   0                1   \n",
       "1                       1  False                   0                1   \n",
       "2                       0  False                   0                0   \n",
       "3                       2  False                   1                0   \n",
       "4                       3  False                   1                0   \n",
       "\n",
       "   churn_num  \n",
       "0          0  \n",
       "1          0  \n",
       "2          0  \n",
       "3          0  \n",
       "4          0  \n",
       "\n",
       "[5 rows x 24 columns]"
      ]
     },
     "execution_count": 27,
     "metadata": {},
     "output_type": "execute_result"
    }
   ],
   "source": [
    "df.head()"
   ]
  },
  {
   "cell_type": "code",
   "execution_count": 28,
   "metadata": {},
   "outputs": [],
   "source": [
    "# now the converted columns can be removed. \n",
    "df.drop(columns = ['phone number', 'international plan', 'voice mail plan', 'churn'], inplace = True)"
   ]
  },
  {
   "cell_type": "code",
   "execution_count": 29,
   "metadata": {},
   "outputs": [
    {
     "name": "stdout",
     "output_type": "stream",
     "text": [
      "<class 'pandas.core.frame.DataFrame'>\n",
      "RangeIndex: 3333 entries, 0 to 3332\n",
      "Data columns (total 20 columns):\n",
      " #   Column                  Non-Null Count  Dtype  \n",
      "---  ------                  --------------  -----  \n",
      " 0   state                   3333 non-null   object \n",
      " 1   account length          3333 non-null   int64  \n",
      " 2   area code               3333 non-null   int64  \n",
      " 3   number vmail messages   3333 non-null   int64  \n",
      " 4   total day minutes       3333 non-null   float64\n",
      " 5   total day calls         3333 non-null   int64  \n",
      " 6   total day charge        3333 non-null   float64\n",
      " 7   total eve minutes       3333 non-null   float64\n",
      " 8   total eve calls         3333 non-null   int64  \n",
      " 9   total eve charge        3333 non-null   float64\n",
      " 10  total night minutes     3333 non-null   float64\n",
      " 11  total night calls       3333 non-null   int64  \n",
      " 12  total night charge      3333 non-null   float64\n",
      " 13  total intl minutes      3333 non-null   float64\n",
      " 14  total intl calls        3333 non-null   int64  \n",
      " 15  total intl charge       3333 non-null   float64\n",
      " 16  customer service calls  3333 non-null   int64  \n",
      " 17  international_plan      3333 non-null   int64  \n",
      " 18  voice_mail_plan         3333 non-null   int64  \n",
      " 19  churn_num               3333 non-null   int64  \n",
      "dtypes: float64(8), int64(11), object(1)\n",
      "memory usage: 520.9+ KB\n"
     ]
    }
   ],
   "source": [
    "df.info()\n",
    "# This is misleading, technically area code is a nominal category even though it has integer values."
   ]
  },
  {
   "cell_type": "code",
   "execution_count": 30,
   "metadata": {},
   "outputs": [],
   "source": [
    "df['area code'] = df['area code'].astype(object) # Converting this column to an object so it can be run through a pipeline for nominal columns."
   ]
  },
  {
   "cell_type": "code",
   "execution_count": 31,
   "metadata": {},
   "outputs": [
    {
     "data": {
      "text/plain": [
       "415    1655\n",
       "510     840\n",
       "408     838\n",
       "Name: area code, dtype: int64"
      ]
     },
     "execution_count": 31,
     "metadata": {},
     "output_type": "execute_result"
    }
   ],
   "source": [
    "df['area code'].value_counts()"
   ]
  },
  {
   "cell_type": "code",
   "execution_count": 32,
   "metadata": {},
   "outputs": [
    {
     "data": {
      "text/plain": [
       "dtype('O')"
      ]
     },
     "execution_count": 32,
     "metadata": {},
     "output_type": "execute_result"
    }
   ],
   "source": [
    "df['area code'].dtypes #Sanity check"
   ]
  },
  {
   "cell_type": "code",
   "execution_count": 33,
   "metadata": {},
   "outputs": [],
   "source": [
    "y = df['churn_num']\n",
    "X = df.drop('churn_num', axis=1)\n",
    "\n",
    "# Split into training and test sets\n",
    "X_train, X_test, y_train, y_test = train_test_split(X, y, test_size=0.30, random_state=3333)"
   ]
  },
  {
   "cell_type": "code",
   "execution_count": 34,
   "metadata": {},
   "outputs": [],
   "source": [
    "numeric_pipeline = Pipeline([('numnorm', StandardScaler())])\n",
    "\n",
    "nominal_pipeline = Pipeline([\n",
    "    ('onehotenc', OneHotEncoder(sparse = False, drop = 'first')), \n",
    "    ('onehotnorm', StandardScaler())])\n"
   ]
  },
  {
   "cell_type": "code",
   "execution_count": 35,
   "metadata": {},
   "outputs": [
    {
     "data": {
      "text/plain": [
       "Index(['account length', 'number vmail messages', 'total day minutes',\n",
       "       'total day calls', 'total day charge', 'total eve minutes',\n",
       "       'total eve calls', 'total eve charge', 'total night minutes',\n",
       "       'total night calls', 'total night charge', 'total intl minutes',\n",
       "       'total intl calls', 'total intl charge', 'customer service calls',\n",
       "       'international_plan', 'voice_mail_plan'],\n",
       "      dtype='object')"
      ]
     },
     "execution_count": 35,
     "metadata": {},
     "output_type": "execute_result"
    }
   ],
   "source": [
    "num_cols = X_train.select_dtypes(['int', 'float']).columns\n",
    "ct = ColumnTransformer([(\"nominalpipe\", nominal_pipeline, ['area code','state']),\n",
    "     (\"numpipe\", numeric_pipeline, num_cols)])\n",
    "\n",
    "num_cols"
   ]
  },
  {
   "cell_type": "code",
   "execution_count": 36,
   "metadata": {
    "scrolled": true
   },
   "outputs": [
    {
     "data": {
      "text/html": [
       "<div>\n",
       "<style scoped>\n",
       "    .dataframe tbody tr th:only-of-type {\n",
       "        vertical-align: middle;\n",
       "    }\n",
       "\n",
       "    .dataframe tbody tr th {\n",
       "        vertical-align: top;\n",
       "    }\n",
       "\n",
       "    .dataframe thead th {\n",
       "        text-align: right;\n",
       "    }\n",
       "</style>\n",
       "<table border=\"1\" class=\"dataframe\">\n",
       "  <thead>\n",
       "    <tr style=\"text-align: right;\">\n",
       "      <th></th>\n",
       "      <th>0</th>\n",
       "      <th>1</th>\n",
       "      <th>2</th>\n",
       "      <th>3</th>\n",
       "      <th>4</th>\n",
       "      <th>5</th>\n",
       "      <th>6</th>\n",
       "      <th>7</th>\n",
       "      <th>8</th>\n",
       "      <th>9</th>\n",
       "      <th>...</th>\n",
       "      <th>59</th>\n",
       "      <th>60</th>\n",
       "      <th>61</th>\n",
       "      <th>62</th>\n",
       "      <th>63</th>\n",
       "      <th>64</th>\n",
       "      <th>65</th>\n",
       "      <th>66</th>\n",
       "      <th>67</th>\n",
       "      <th>68</th>\n",
       "    </tr>\n",
       "  </thead>\n",
       "  <tbody>\n",
       "    <tr>\n",
       "      <th>0</th>\n",
       "      <td>1.018604</td>\n",
       "      <td>-0.577185</td>\n",
       "      <td>-0.150987</td>\n",
       "      <td>-0.119782</td>\n",
       "      <td>-0.14799</td>\n",
       "      <td>-0.097569</td>\n",
       "      <td>-0.138645</td>\n",
       "      <td>-0.163855</td>\n",
       "      <td>-0.133747</td>\n",
       "      <td>-0.12519</td>\n",
       "      <td>...</td>\n",
       "      <td>-1.387634</td>\n",
       "      <td>-0.284281</td>\n",
       "      <td>-0.702809</td>\n",
       "      <td>-0.283001</td>\n",
       "      <td>-0.106191</td>\n",
       "      <td>1.041577</td>\n",
       "      <td>-0.110941</td>\n",
       "      <td>-1.196426</td>\n",
       "      <td>-0.32105</td>\n",
       "      <td>-0.608884</td>\n",
       "    </tr>\n",
       "    <tr>\n",
       "      <th>1</th>\n",
       "      <td>-0.981736</td>\n",
       "      <td>-0.577185</td>\n",
       "      <td>-0.150987</td>\n",
       "      <td>-0.119782</td>\n",
       "      <td>-0.14799</td>\n",
       "      <td>-0.097569</td>\n",
       "      <td>-0.138645</td>\n",
       "      <td>-0.163855</td>\n",
       "      <td>-0.133747</td>\n",
       "      <td>-0.12519</td>\n",
       "      <td>...</td>\n",
       "      <td>0.289915</td>\n",
       "      <td>1.062765</td>\n",
       "      <td>-0.193853</td>\n",
       "      <td>1.063347</td>\n",
       "      <td>-1.413158</td>\n",
       "      <td>-0.990535</td>\n",
       "      <td>-1.415223</td>\n",
       "      <td>3.375665</td>\n",
       "      <td>-0.32105</td>\n",
       "      <td>-0.608884</td>\n",
       "    </tr>\n",
       "    <tr>\n",
       "      <th>2</th>\n",
       "      <td>-0.981736</td>\n",
       "      <td>1.732546</td>\n",
       "      <td>-0.150987</td>\n",
       "      <td>-0.119782</td>\n",
       "      <td>-0.14799</td>\n",
       "      <td>-0.097569</td>\n",
       "      <td>-0.138645</td>\n",
       "      <td>-0.163855</td>\n",
       "      <td>-0.133747</td>\n",
       "      <td>-0.12519</td>\n",
       "      <td>...</td>\n",
       "      <td>-0.750119</td>\n",
       "      <td>1.237273</td>\n",
       "      <td>0.925851</td>\n",
       "      <td>1.237631</td>\n",
       "      <td>-1.304244</td>\n",
       "      <td>0.635155</td>\n",
       "      <td>-1.307653</td>\n",
       "      <td>0.327604</td>\n",
       "      <td>-0.32105</td>\n",
       "      <td>-0.608884</td>\n",
       "    </tr>\n",
       "    <tr>\n",
       "      <th>3</th>\n",
       "      <td>1.018604</td>\n",
       "      <td>-0.577185</td>\n",
       "      <td>-0.150987</td>\n",
       "      <td>-0.119782</td>\n",
       "      <td>-0.14799</td>\n",
       "      <td>-0.097569</td>\n",
       "      <td>-0.138645</td>\n",
       "      <td>-0.163855</td>\n",
       "      <td>-0.133747</td>\n",
       "      <td>-0.12519</td>\n",
       "      <td>...</td>\n",
       "      <td>-0.470915</td>\n",
       "      <td>1.070608</td>\n",
       "      <td>-0.092062</td>\n",
       "      <td>1.072061</td>\n",
       "      <td>0.692511</td>\n",
       "      <td>-0.177690</td>\n",
       "      <td>0.695831</td>\n",
       "      <td>-0.434411</td>\n",
       "      <td>-0.32105</td>\n",
       "      <td>-0.608884</td>\n",
       "    </tr>\n",
       "    <tr>\n",
       "      <th>4</th>\n",
       "      <td>1.018604</td>\n",
       "      <td>-0.577185</td>\n",
       "      <td>-0.150987</td>\n",
       "      <td>-0.119782</td>\n",
       "      <td>-0.14799</td>\n",
       "      <td>-0.097569</td>\n",
       "      <td>-0.138645</td>\n",
       "      <td>-0.163855</td>\n",
       "      <td>-0.133747</td>\n",
       "      <td>-0.12519</td>\n",
       "      <td>...</td>\n",
       "      <td>0.173580</td>\n",
       "      <td>0.319635</td>\n",
       "      <td>0.315104</td>\n",
       "      <td>0.318280</td>\n",
       "      <td>0.801425</td>\n",
       "      <td>-0.990535</td>\n",
       "      <td>0.803400</td>\n",
       "      <td>1.089620</td>\n",
       "      <td>-0.32105</td>\n",
       "      <td>-0.608884</td>\n",
       "    </tr>\n",
       "  </tbody>\n",
       "</table>\n",
       "<p>5 rows × 69 columns</p>\n",
       "</div>"
      ],
      "text/plain": [
       "         0         1         2         3        4         5         6   \\\n",
       "0  1.018604 -0.577185 -0.150987 -0.119782 -0.14799 -0.097569 -0.138645   \n",
       "1 -0.981736 -0.577185 -0.150987 -0.119782 -0.14799 -0.097569 -0.138645   \n",
       "2 -0.981736  1.732546 -0.150987 -0.119782 -0.14799 -0.097569 -0.138645   \n",
       "3  1.018604 -0.577185 -0.150987 -0.119782 -0.14799 -0.097569 -0.138645   \n",
       "4  1.018604 -0.577185 -0.150987 -0.119782 -0.14799 -0.097569 -0.138645   \n",
       "\n",
       "         7         8        9   ...        59        60        61        62  \\\n",
       "0 -0.163855 -0.133747 -0.12519  ... -1.387634 -0.284281 -0.702809 -0.283001   \n",
       "1 -0.163855 -0.133747 -0.12519  ...  0.289915  1.062765 -0.193853  1.063347   \n",
       "2 -0.163855 -0.133747 -0.12519  ... -0.750119  1.237273  0.925851  1.237631   \n",
       "3 -0.163855 -0.133747 -0.12519  ... -0.470915  1.070608 -0.092062  1.072061   \n",
       "4 -0.163855 -0.133747 -0.12519  ...  0.173580  0.319635  0.315104  0.318280   \n",
       "\n",
       "         63        64        65        66       67        68  \n",
       "0 -0.106191  1.041577 -0.110941 -1.196426 -0.32105 -0.608884  \n",
       "1 -1.413158 -0.990535 -1.415223  3.375665 -0.32105 -0.608884  \n",
       "2 -1.304244  0.635155 -1.307653  0.327604 -0.32105 -0.608884  \n",
       "3  0.692511 -0.177690  0.695831 -0.434411 -0.32105 -0.608884  \n",
       "4  0.801425 -0.990535  0.803400  1.089620 -0.32105 -0.608884  \n",
       "\n",
       "[5 rows x 69 columns]"
      ]
     },
     "execution_count": 36,
     "metadata": {},
     "output_type": "execute_result"
    }
   ],
   "source": [
    "X_train_scaled = pd.DataFrame(ct.fit_transform(X_train)).head()\n",
    "X_train_scaled"
   ]
  },
  {
   "cell_type": "code",
   "execution_count": 38,
   "metadata": {},
   "outputs": [
    {
     "data": {
      "text/html": [
       "<div>\n",
       "<style scoped>\n",
       "    .dataframe tbody tr th:only-of-type {\n",
       "        vertical-align: middle;\n",
       "    }\n",
       "\n",
       "    .dataframe tbody tr th {\n",
       "        vertical-align: top;\n",
       "    }\n",
       "\n",
       "    .dataframe thead th {\n",
       "        text-align: right;\n",
       "    }\n",
       "</style>\n",
       "<table border=\"1\" class=\"dataframe\">\n",
       "  <thead>\n",
       "    <tr style=\"text-align: right;\">\n",
       "      <th></th>\n",
       "      <th>0</th>\n",
       "      <th>1</th>\n",
       "      <th>2</th>\n",
       "      <th>3</th>\n",
       "      <th>4</th>\n",
       "      <th>5</th>\n",
       "      <th>6</th>\n",
       "      <th>7</th>\n",
       "      <th>8</th>\n",
       "      <th>9</th>\n",
       "      <th>...</th>\n",
       "      <th>59</th>\n",
       "      <th>60</th>\n",
       "      <th>61</th>\n",
       "      <th>62</th>\n",
       "      <th>63</th>\n",
       "      <th>64</th>\n",
       "      <th>65</th>\n",
       "      <th>66</th>\n",
       "      <th>67</th>\n",
       "      <th>68</th>\n",
       "    </tr>\n",
       "  </thead>\n",
       "  <tbody>\n",
       "    <tr>\n",
       "      <th>0</th>\n",
       "      <td>-0.981736</td>\n",
       "      <td>-0.577185</td>\n",
       "      <td>-0.150987</td>\n",
       "      <td>-0.119782</td>\n",
       "      <td>-0.14799</td>\n",
       "      <td>-0.097569</td>\n",
       "      <td>-0.138645</td>\n",
       "      <td>-0.163855</td>\n",
       "      <td>-0.133747</td>\n",
       "      <td>-0.12519</td>\n",
       "      <td>...</td>\n",
       "      <td>-0.505816</td>\n",
       "      <td>0.098069</td>\n",
       "      <td>1.027643</td>\n",
       "      <td>0.096068</td>\n",
       "      <td>-1.413158</td>\n",
       "      <td>-0.177690</td>\n",
       "      <td>-1.415223</td>\n",
       "      <td>0.327604</td>\n",
       "      <td>-0.32105</td>\n",
       "      <td>-0.608884</td>\n",
       "    </tr>\n",
       "    <tr>\n",
       "      <th>1</th>\n",
       "      <td>1.018604</td>\n",
       "      <td>-0.577185</td>\n",
       "      <td>-0.150987</td>\n",
       "      <td>-0.119782</td>\n",
       "      <td>-0.14799</td>\n",
       "      <td>10.249168</td>\n",
       "      <td>-0.138645</td>\n",
       "      <td>-0.163855</td>\n",
       "      <td>-0.133747</td>\n",
       "      <td>-0.12519</td>\n",
       "      <td>...</td>\n",
       "      <td>-0.289433</td>\n",
       "      <td>0.952962</td>\n",
       "      <td>-1.109974</td>\n",
       "      <td>0.954419</td>\n",
       "      <td>-3.700350</td>\n",
       "      <td>-1.803380</td>\n",
       "      <td>-3.701077</td>\n",
       "      <td>-0.434411</td>\n",
       "      <td>-0.32105</td>\n",
       "      <td>1.642348</td>\n",
       "    </tr>\n",
       "    <tr>\n",
       "      <th>2</th>\n",
       "      <td>1.018604</td>\n",
       "      <td>-0.577185</td>\n",
       "      <td>-0.150987</td>\n",
       "      <td>-0.119782</td>\n",
       "      <td>-0.14799</td>\n",
       "      <td>-0.097569</td>\n",
       "      <td>-0.138645</td>\n",
       "      <td>-0.163855</td>\n",
       "      <td>-0.133747</td>\n",
       "      <td>-0.12519</td>\n",
       "      <td>...</td>\n",
       "      <td>1.118219</td>\n",
       "      <td>-1.368584</td>\n",
       "      <td>1.180330</td>\n",
       "      <td>-1.367923</td>\n",
       "      <td>-1.594681</td>\n",
       "      <td>-0.990535</td>\n",
       "      <td>-1.590023</td>\n",
       "      <td>-0.434411</td>\n",
       "      <td>-0.32105</td>\n",
       "      <td>-0.608884</td>\n",
       "    </tr>\n",
       "    <tr>\n",
       "      <th>3</th>\n",
       "      <td>1.018604</td>\n",
       "      <td>-0.577185</td>\n",
       "      <td>-0.150987</td>\n",
       "      <td>-0.119782</td>\n",
       "      <td>-0.14799</td>\n",
       "      <td>-0.097569</td>\n",
       "      <td>7.212678</td>\n",
       "      <td>-0.163855</td>\n",
       "      <td>-0.133747</td>\n",
       "      <td>-0.12519</td>\n",
       "      <td>...</td>\n",
       "      <td>0.797135</td>\n",
       "      <td>0.854924</td>\n",
       "      <td>0.518686</td>\n",
       "      <td>0.854205</td>\n",
       "      <td>0.147942</td>\n",
       "      <td>-0.584113</td>\n",
       "      <td>0.144537</td>\n",
       "      <td>-0.434411</td>\n",
       "      <td>-0.32105</td>\n",
       "      <td>1.642348</td>\n",
       "    </tr>\n",
       "    <tr>\n",
       "      <th>4</th>\n",
       "      <td>1.018604</td>\n",
       "      <td>-0.577185</td>\n",
       "      <td>-0.150987</td>\n",
       "      <td>-0.119782</td>\n",
       "      <td>-0.14799</td>\n",
       "      <td>-0.097569</td>\n",
       "      <td>-0.138645</td>\n",
       "      <td>-0.163855</td>\n",
       "      <td>-0.133747</td>\n",
       "      <td>-0.12519</td>\n",
       "      <td>...</td>\n",
       "      <td>-0.554677</td>\n",
       "      <td>0.331400</td>\n",
       "      <td>1.129434</td>\n",
       "      <td>0.331352</td>\n",
       "      <td>-0.033581</td>\n",
       "      <td>-0.177690</td>\n",
       "      <td>-0.030264</td>\n",
       "      <td>-1.196426</td>\n",
       "      <td>-0.32105</td>\n",
       "      <td>-0.608884</td>\n",
       "    </tr>\n",
       "  </tbody>\n",
       "</table>\n",
       "<p>5 rows × 69 columns</p>\n",
       "</div>"
      ],
      "text/plain": [
       "         0         1         2         3        4          5         6   \\\n",
       "0 -0.981736 -0.577185 -0.150987 -0.119782 -0.14799  -0.097569 -0.138645   \n",
       "1  1.018604 -0.577185 -0.150987 -0.119782 -0.14799  10.249168 -0.138645   \n",
       "2  1.018604 -0.577185 -0.150987 -0.119782 -0.14799  -0.097569 -0.138645   \n",
       "3  1.018604 -0.577185 -0.150987 -0.119782 -0.14799  -0.097569  7.212678   \n",
       "4  1.018604 -0.577185 -0.150987 -0.119782 -0.14799  -0.097569 -0.138645   \n",
       "\n",
       "         7         8        9   ...        59        60        61        62  \\\n",
       "0 -0.163855 -0.133747 -0.12519  ... -0.505816  0.098069  1.027643  0.096068   \n",
       "1 -0.163855 -0.133747 -0.12519  ... -0.289433  0.952962 -1.109974  0.954419   \n",
       "2 -0.163855 -0.133747 -0.12519  ...  1.118219 -1.368584  1.180330 -1.367923   \n",
       "3 -0.163855 -0.133747 -0.12519  ...  0.797135  0.854924  0.518686  0.854205   \n",
       "4 -0.163855 -0.133747 -0.12519  ... -0.554677  0.331400  1.129434  0.331352   \n",
       "\n",
       "         63        64        65        66       67        68  \n",
       "0 -1.413158 -0.177690 -1.415223  0.327604 -0.32105 -0.608884  \n",
       "1 -3.700350 -1.803380 -3.701077 -0.434411 -0.32105  1.642348  \n",
       "2 -1.594681 -0.990535 -1.590023 -0.434411 -0.32105 -0.608884  \n",
       "3  0.147942 -0.584113  0.144537 -0.434411 -0.32105  1.642348  \n",
       "4 -0.033581 -0.177690 -0.030264 -1.196426 -0.32105 -0.608884  \n",
       "\n",
       "[5 rows x 69 columns]"
      ]
     },
     "execution_count": 38,
     "metadata": {},
     "output_type": "execute_result"
    }
   ],
   "source": [
    "X_test_scaled = pd.DataFrame(ct.transform(X_test)).head()\n",
    "X_test_scaled"
   ]
  },
  {
   "cell_type": "code",
   "execution_count": 39,
   "metadata": {},
   "outputs": [
    {
     "data": {
      "text/html": [
       "<style>div.sk-top-container {color: black;background-color: white;}div.sk-toggleable {background-color: white;}label.sk-toggleable__label {cursor: pointer;display: block;width: 100%;margin-bottom: 0;padding: 0.2em 0.3em;box-sizing: border-box;text-align: center;}div.sk-toggleable__content {max-height: 0;max-width: 0;overflow: hidden;text-align: left;background-color: #f0f8ff;}div.sk-toggleable__content pre {margin: 0.2em;color: black;border-radius: 0.25em;background-color: #f0f8ff;}input.sk-toggleable__control:checked~div.sk-toggleable__content {max-height: 200px;max-width: 100%;overflow: auto;}div.sk-estimator input.sk-toggleable__control:checked~label.sk-toggleable__label {background-color: #d4ebff;}div.sk-label input.sk-toggleable__control:checked~label.sk-toggleable__label {background-color: #d4ebff;}input.sk-hidden--visually {border: 0;clip: rect(1px 1px 1px 1px);clip: rect(1px, 1px, 1px, 1px);height: 1px;margin: -1px;overflow: hidden;padding: 0;position: absolute;width: 1px;}div.sk-estimator {font-family: monospace;background-color: #f0f8ff;margin: 0.25em 0.25em;border: 1px dotted black;border-radius: 0.25em;box-sizing: border-box;}div.sk-estimator:hover {background-color: #d4ebff;}div.sk-parallel-item::after {content: \"\";width: 100%;border-bottom: 1px solid gray;flex-grow: 1;}div.sk-label:hover label.sk-toggleable__label {background-color: #d4ebff;}div.sk-serial::before {content: \"\";position: absolute;border-left: 1px solid gray;box-sizing: border-box;top: 2em;bottom: 0;left: 50%;}div.sk-serial {display: flex;flex-direction: column;align-items: center;background-color: white;}div.sk-item {z-index: 1;}div.sk-parallel {display: flex;align-items: stretch;justify-content: center;background-color: white;}div.sk-parallel-item {display: flex;flex-direction: column;position: relative;background-color: white;}div.sk-parallel-item:first-child::after {align-self: flex-end;width: 50%;}div.sk-parallel-item:last-child::after {align-self: flex-start;width: 50%;}div.sk-parallel-item:only-child::after {width: 0;}div.sk-dashed-wrapped {border: 1px dashed gray;margin: 0.2em;box-sizing: border-box;padding-bottom: 0.1em;background-color: white;position: relative;}div.sk-label label {font-family: monospace;font-weight: bold;background-color: white;display: inline-block;line-height: 1.2em;}div.sk-label-container {position: relative;z-index: 2;text-align: center;}div.sk-container {display: inline-block;position: relative;}</style><div class=\"sk-top-container\"><div class=\"sk-container\"><div class=\"sk-item sk-dashed-wrapped\"><div class=\"sk-label-container\"><div class=\"sk-label sk-toggleable\"><input class=\"sk-toggleable__control sk-hidden--visually\" id=\"4df0a23a-78d0-4101-b81e-a597b8fe2cd2\" type=\"checkbox\" ><label class=\"sk-toggleable__label\" for=\"4df0a23a-78d0-4101-b81e-a597b8fe2cd2\">ColumnTransformer</label><div class=\"sk-toggleable__content\"><pre>ColumnTransformer(transformers=[('nominalpipe',\n",
       "                                 Pipeline(steps=[('onehotenc',\n",
       "                                                  OneHotEncoder(drop='first',\n",
       "                                                                sparse=False)),\n",
       "                                                 ('onehotnorm',\n",
       "                                                  StandardScaler())]),\n",
       "                                 ['area code', 'state']),\n",
       "                                ('numpipe',\n",
       "                                 Pipeline(steps=[('numnorm',\n",
       "                                                  StandardScaler())]),\n",
       "                                 Index(['account length', 'number vmail messages', 'total day minutes',\n",
       "       'total day calls', 'total day charge', 'total eve minutes',\n",
       "       'total eve calls', 'total eve charge', 'total night minutes',\n",
       "       'total night calls', 'total night charge', 'total intl minutes',\n",
       "       'total intl calls', 'total intl charge', 'customer service calls',\n",
       "       'international_plan', 'voice_mail_plan'],\n",
       "      dtype='object'))])</pre></div></div></div><div class=\"sk-parallel\"><div class=\"sk-parallel-item\"><div class=\"sk-item\"><div class=\"sk-label-container\"><div class=\"sk-label sk-toggleable\"><input class=\"sk-toggleable__control sk-hidden--visually\" id=\"8f86dfb4-0979-4585-9025-e093b8b376d3\" type=\"checkbox\" ><label class=\"sk-toggleable__label\" for=\"8f86dfb4-0979-4585-9025-e093b8b376d3\">nominalpipe</label><div class=\"sk-toggleable__content\"><pre>['area code', 'state']</pre></div></div></div><div class=\"sk-serial\"><div class=\"sk-item\"><div class=\"sk-serial\"><div class=\"sk-item\"><div class=\"sk-estimator sk-toggleable\"><input class=\"sk-toggleable__control sk-hidden--visually\" id=\"21a983bf-5926-4431-b0d5-fbadf9ccf139\" type=\"checkbox\" ><label class=\"sk-toggleable__label\" for=\"21a983bf-5926-4431-b0d5-fbadf9ccf139\">OneHotEncoder</label><div class=\"sk-toggleable__content\"><pre>OneHotEncoder(drop='first', sparse=False)</pre></div></div></div><div class=\"sk-item\"><div class=\"sk-estimator sk-toggleable\"><input class=\"sk-toggleable__control sk-hidden--visually\" id=\"8ad32d93-ce30-4e07-aaf0-a63341d448af\" type=\"checkbox\" ><label class=\"sk-toggleable__label\" for=\"8ad32d93-ce30-4e07-aaf0-a63341d448af\">StandardScaler</label><div class=\"sk-toggleable__content\"><pre>StandardScaler()</pre></div></div></div></div></div></div></div></div><div class=\"sk-parallel-item\"><div class=\"sk-item\"><div class=\"sk-label-container\"><div class=\"sk-label sk-toggleable\"><input class=\"sk-toggleable__control sk-hidden--visually\" id=\"c829e5f7-197a-424a-9855-bde107c7ba97\" type=\"checkbox\" ><label class=\"sk-toggleable__label\" for=\"c829e5f7-197a-424a-9855-bde107c7ba97\">numpipe</label><div class=\"sk-toggleable__content\"><pre>Index(['account length', 'number vmail messages', 'total day minutes',\n",
       "       'total day calls', 'total day charge', 'total eve minutes',\n",
       "       'total eve calls', 'total eve charge', 'total night minutes',\n",
       "       'total night calls', 'total night charge', 'total intl minutes',\n",
       "       'total intl calls', 'total intl charge', 'customer service calls',\n",
       "       'international_plan', 'voice_mail_plan'],\n",
       "      dtype='object')</pre></div></div></div><div class=\"sk-serial\"><div class=\"sk-item\"><div class=\"sk-serial\"><div class=\"sk-item\"><div class=\"sk-estimator sk-toggleable\"><input class=\"sk-toggleable__control sk-hidden--visually\" id=\"42459e2d-82cf-4457-9990-58b5a384b144\" type=\"checkbox\" ><label class=\"sk-toggleable__label\" for=\"42459e2d-82cf-4457-9990-58b5a384b144\">StandardScaler</label><div class=\"sk-toggleable__content\"><pre>StandardScaler()</pre></div></div></div></div></div></div></div></div></div></div></div></div>"
      ],
      "text/plain": [
       "ColumnTransformer(transformers=[('nominalpipe',\n",
       "                                 Pipeline(steps=[('onehotenc',\n",
       "                                                  OneHotEncoder(drop='first',\n",
       "                                                                sparse=False)),\n",
       "                                                 ('onehotnorm',\n",
       "                                                  StandardScaler())]),\n",
       "                                 ['area code', 'state']),\n",
       "                                ('numpipe',\n",
       "                                 Pipeline(steps=[('numnorm',\n",
       "                                                  StandardScaler())]),\n",
       "                                 Index(['account length', 'number vmail messages', 'total day minutes',\n",
       "       'total day calls', 'total day charge', 'total eve minutes',\n",
       "       'total eve calls', 'total eve charge', 'total night minutes',\n",
       "       'total night calls', 'total night charge', 'total intl minutes',\n",
       "       'total intl calls', 'total intl charge', 'customer service calls',\n",
       "       'international_plan', 'voice_mail_plan'],\n",
       "      dtype='object'))])"
      ]
     },
     "execution_count": 39,
     "metadata": {},
     "output_type": "execute_result"
    }
   ],
   "source": [
    "ct"
   ]
  },
  {
   "cell_type": "code",
   "execution_count": 40,
   "metadata": {},
   "outputs": [
    {
     "data": {
      "text/html": [
       "<style>div.sk-top-container {color: black;background-color: white;}div.sk-toggleable {background-color: white;}label.sk-toggleable__label {cursor: pointer;display: block;width: 100%;margin-bottom: 0;padding: 0.2em 0.3em;box-sizing: border-box;text-align: center;}div.sk-toggleable__content {max-height: 0;max-width: 0;overflow: hidden;text-align: left;background-color: #f0f8ff;}div.sk-toggleable__content pre {margin: 0.2em;color: black;border-radius: 0.25em;background-color: #f0f8ff;}input.sk-toggleable__control:checked~div.sk-toggleable__content {max-height: 200px;max-width: 100%;overflow: auto;}div.sk-estimator input.sk-toggleable__control:checked~label.sk-toggleable__label {background-color: #d4ebff;}div.sk-label input.sk-toggleable__control:checked~label.sk-toggleable__label {background-color: #d4ebff;}input.sk-hidden--visually {border: 0;clip: rect(1px 1px 1px 1px);clip: rect(1px, 1px, 1px, 1px);height: 1px;margin: -1px;overflow: hidden;padding: 0;position: absolute;width: 1px;}div.sk-estimator {font-family: monospace;background-color: #f0f8ff;margin: 0.25em 0.25em;border: 1px dotted black;border-radius: 0.25em;box-sizing: border-box;}div.sk-estimator:hover {background-color: #d4ebff;}div.sk-parallel-item::after {content: \"\";width: 100%;border-bottom: 1px solid gray;flex-grow: 1;}div.sk-label:hover label.sk-toggleable__label {background-color: #d4ebff;}div.sk-serial::before {content: \"\";position: absolute;border-left: 1px solid gray;box-sizing: border-box;top: 2em;bottom: 0;left: 50%;}div.sk-serial {display: flex;flex-direction: column;align-items: center;background-color: white;}div.sk-item {z-index: 1;}div.sk-parallel {display: flex;align-items: stretch;justify-content: center;background-color: white;}div.sk-parallel-item {display: flex;flex-direction: column;position: relative;background-color: white;}div.sk-parallel-item:first-child::after {align-self: flex-end;width: 50%;}div.sk-parallel-item:last-child::after {align-self: flex-start;width: 50%;}div.sk-parallel-item:only-child::after {width: 0;}div.sk-dashed-wrapped {border: 1px dashed gray;margin: 0.2em;box-sizing: border-box;padding-bottom: 0.1em;background-color: white;position: relative;}div.sk-label label {font-family: monospace;font-weight: bold;background-color: white;display: inline-block;line-height: 1.2em;}div.sk-label-container {position: relative;z-index: 2;text-align: center;}div.sk-container {display: inline-block;position: relative;}</style><div class=\"sk-top-container\"><div class=\"sk-container\"><div class=\"sk-item sk-dashed-wrapped\"><div class=\"sk-label-container\"><div class=\"sk-label sk-toggleable\"><input class=\"sk-toggleable__control sk-hidden--visually\" id=\"bc0ae445-5c0c-4442-a7d1-407d81f2cb9e\" type=\"checkbox\" ><label class=\"sk-toggleable__label\" for=\"bc0ae445-5c0c-4442-a7d1-407d81f2cb9e\">Pipeline</label><div class=\"sk-toggleable__content\"><pre>Pipeline(steps=[('preprocess',\n",
       "                 ColumnTransformer(transformers=[('nominalpipe',\n",
       "                                                  Pipeline(steps=[('onehotenc',\n",
       "                                                                   OneHotEncoder(drop='first',\n",
       "                                                                                 sparse=False)),\n",
       "                                                                  ('onehotnorm',\n",
       "                                                                   StandardScaler())]),\n",
       "                                                  ['area code', 'state']),\n",
       "                                                 ('numpipe',\n",
       "                                                  Pipeline(steps=[('numnorm',\n",
       "                                                                   StandardScaler())]),\n",
       "                                                  Index(['account length', 'number vmail messages', 'total day minutes',\n",
       "       'total day calls', 'total day charge', 'total eve minutes',\n",
       "       'total eve calls', 'total eve charge', 'total night minutes',\n",
       "       'total night calls', 'total night charge', 'total intl minutes',\n",
       "       'total intl calls', 'total intl charge', 'customer service calls',\n",
       "       'international_plan', 'voice_mail_plan'],\n",
       "      dtype='object'))])),\n",
       "                ('model', RandomForestClassifier())])</pre></div></div></div><div class=\"sk-serial\"><div class=\"sk-item sk-dashed-wrapped\"><div class=\"sk-label-container\"><div class=\"sk-label sk-toggleable\"><input class=\"sk-toggleable__control sk-hidden--visually\" id=\"6c973e39-46aa-4878-be9e-34b7975348ee\" type=\"checkbox\" ><label class=\"sk-toggleable__label\" for=\"6c973e39-46aa-4878-be9e-34b7975348ee\">preprocess: ColumnTransformer</label><div class=\"sk-toggleable__content\"><pre>ColumnTransformer(transformers=[('nominalpipe',\n",
       "                                 Pipeline(steps=[('onehotenc',\n",
       "                                                  OneHotEncoder(drop='first',\n",
       "                                                                sparse=False)),\n",
       "                                                 ('onehotnorm',\n",
       "                                                  StandardScaler())]),\n",
       "                                 ['area code', 'state']),\n",
       "                                ('numpipe',\n",
       "                                 Pipeline(steps=[('numnorm',\n",
       "                                                  StandardScaler())]),\n",
       "                                 Index(['account length', 'number vmail messages', 'total day minutes',\n",
       "       'total day calls', 'total day charge', 'total eve minutes',\n",
       "       'total eve calls', 'total eve charge', 'total night minutes',\n",
       "       'total night calls', 'total night charge', 'total intl minutes',\n",
       "       'total intl calls', 'total intl charge', 'customer service calls',\n",
       "       'international_plan', 'voice_mail_plan'],\n",
       "      dtype='object'))])</pre></div></div></div><div class=\"sk-parallel\"><div class=\"sk-parallel-item\"><div class=\"sk-item\"><div class=\"sk-label-container\"><div class=\"sk-label sk-toggleable\"><input class=\"sk-toggleable__control sk-hidden--visually\" id=\"4af52328-7840-4546-a50a-8aa84f870426\" type=\"checkbox\" ><label class=\"sk-toggleable__label\" for=\"4af52328-7840-4546-a50a-8aa84f870426\">nominalpipe</label><div class=\"sk-toggleable__content\"><pre>['area code', 'state']</pre></div></div></div><div class=\"sk-serial\"><div class=\"sk-item\"><div class=\"sk-serial\"><div class=\"sk-item\"><div class=\"sk-estimator sk-toggleable\"><input class=\"sk-toggleable__control sk-hidden--visually\" id=\"0a122230-4d4a-4cdb-8883-5df34ee25db7\" type=\"checkbox\" ><label class=\"sk-toggleable__label\" for=\"0a122230-4d4a-4cdb-8883-5df34ee25db7\">OneHotEncoder</label><div class=\"sk-toggleable__content\"><pre>OneHotEncoder(drop='first', sparse=False)</pre></div></div></div><div class=\"sk-item\"><div class=\"sk-estimator sk-toggleable\"><input class=\"sk-toggleable__control sk-hidden--visually\" id=\"ecf58128-8781-4d18-8eb3-a166e3cdac03\" type=\"checkbox\" ><label class=\"sk-toggleable__label\" for=\"ecf58128-8781-4d18-8eb3-a166e3cdac03\">StandardScaler</label><div class=\"sk-toggleable__content\"><pre>StandardScaler()</pre></div></div></div></div></div></div></div></div><div class=\"sk-parallel-item\"><div class=\"sk-item\"><div class=\"sk-label-container\"><div class=\"sk-label sk-toggleable\"><input class=\"sk-toggleable__control sk-hidden--visually\" id=\"4563690f-c8c6-40e9-b148-1eb780618ac5\" type=\"checkbox\" ><label class=\"sk-toggleable__label\" for=\"4563690f-c8c6-40e9-b148-1eb780618ac5\">numpipe</label><div class=\"sk-toggleable__content\"><pre>Index(['account length', 'number vmail messages', 'total day minutes',\n",
       "       'total day calls', 'total day charge', 'total eve minutes',\n",
       "       'total eve calls', 'total eve charge', 'total night minutes',\n",
       "       'total night calls', 'total night charge', 'total intl minutes',\n",
       "       'total intl calls', 'total intl charge', 'customer service calls',\n",
       "       'international_plan', 'voice_mail_plan'],\n",
       "      dtype='object')</pre></div></div></div><div class=\"sk-serial\"><div class=\"sk-item\"><div class=\"sk-serial\"><div class=\"sk-item\"><div class=\"sk-estimator sk-toggleable\"><input class=\"sk-toggleable__control sk-hidden--visually\" id=\"15267591-a212-4fc3-81a9-2fef32b510d6\" type=\"checkbox\" ><label class=\"sk-toggleable__label\" for=\"15267591-a212-4fc3-81a9-2fef32b510d6\">StandardScaler</label><div class=\"sk-toggleable__content\"><pre>StandardScaler()</pre></div></div></div></div></div></div></div></div></div></div><div class=\"sk-item\"><div class=\"sk-estimator sk-toggleable\"><input class=\"sk-toggleable__control sk-hidden--visually\" id=\"6caad56a-239c-40e7-94ab-60e7a85f384b\" type=\"checkbox\" ><label class=\"sk-toggleable__label\" for=\"6caad56a-239c-40e7-94ab-60e7a85f384b\">RandomForestClassifier</label><div class=\"sk-toggleable__content\"><pre>RandomForestClassifier()</pre></div></div></div></div></div></div></div>"
      ],
      "text/plain": [
       "Pipeline(steps=[('preprocess',\n",
       "                 ColumnTransformer(transformers=[('nominalpipe',\n",
       "                                                  Pipeline(steps=[('onehotenc',\n",
       "                                                                   OneHotEncoder(drop='first',\n",
       "                                                                                 sparse=False)),\n",
       "                                                                  ('onehotnorm',\n",
       "                                                                   StandardScaler())]),\n",
       "                                                  ['area code', 'state']),\n",
       "                                                 ('numpipe',\n",
       "                                                  Pipeline(steps=[('numnorm',\n",
       "                                                                   StandardScaler())]),\n",
       "                                                  Index(['account length', 'number vmail messages', 'total day minutes',\n",
       "       'total day calls', 'total day charge', 'total eve minutes',\n",
       "       'total eve calls', 'total eve charge', 'total night minutes',\n",
       "       'total night calls', 'total night charge', 'total intl minutes',\n",
       "       'total intl calls', 'total intl charge', 'customer service calls',\n",
       "       'international_plan', 'voice_mail_plan'],\n",
       "      dtype='object'))])),\n",
       "                ('model', RandomForestClassifier())])"
      ]
     },
     "execution_count": 40,
     "metadata": {},
     "output_type": "execute_result"
    }
   ],
   "source": [
    "final_pipe = Pipeline([('preprocess', ct),\n",
    "                      ('model',\n",
    "                       RandomForestClassifier())])\n",
    "final_pipe"
   ]
  },
  {
   "cell_type": "code",
   "execution_count": 41,
   "metadata": {},
   "outputs": [
    {
     "data": {
      "text/html": [
       "<style>div.sk-top-container {color: black;background-color: white;}div.sk-toggleable {background-color: white;}label.sk-toggleable__label {cursor: pointer;display: block;width: 100%;margin-bottom: 0;padding: 0.2em 0.3em;box-sizing: border-box;text-align: center;}div.sk-toggleable__content {max-height: 0;max-width: 0;overflow: hidden;text-align: left;background-color: #f0f8ff;}div.sk-toggleable__content pre {margin: 0.2em;color: black;border-radius: 0.25em;background-color: #f0f8ff;}input.sk-toggleable__control:checked~div.sk-toggleable__content {max-height: 200px;max-width: 100%;overflow: auto;}div.sk-estimator input.sk-toggleable__control:checked~label.sk-toggleable__label {background-color: #d4ebff;}div.sk-label input.sk-toggleable__control:checked~label.sk-toggleable__label {background-color: #d4ebff;}input.sk-hidden--visually {border: 0;clip: rect(1px 1px 1px 1px);clip: rect(1px, 1px, 1px, 1px);height: 1px;margin: -1px;overflow: hidden;padding: 0;position: absolute;width: 1px;}div.sk-estimator {font-family: monospace;background-color: #f0f8ff;margin: 0.25em 0.25em;border: 1px dotted black;border-radius: 0.25em;box-sizing: border-box;}div.sk-estimator:hover {background-color: #d4ebff;}div.sk-parallel-item::after {content: \"\";width: 100%;border-bottom: 1px solid gray;flex-grow: 1;}div.sk-label:hover label.sk-toggleable__label {background-color: #d4ebff;}div.sk-serial::before {content: \"\";position: absolute;border-left: 1px solid gray;box-sizing: border-box;top: 2em;bottom: 0;left: 50%;}div.sk-serial {display: flex;flex-direction: column;align-items: center;background-color: white;}div.sk-item {z-index: 1;}div.sk-parallel {display: flex;align-items: stretch;justify-content: center;background-color: white;}div.sk-parallel-item {display: flex;flex-direction: column;position: relative;background-color: white;}div.sk-parallel-item:first-child::after {align-self: flex-end;width: 50%;}div.sk-parallel-item:last-child::after {align-self: flex-start;width: 50%;}div.sk-parallel-item:only-child::after {width: 0;}div.sk-dashed-wrapped {border: 1px dashed gray;margin: 0.2em;box-sizing: border-box;padding-bottom: 0.1em;background-color: white;position: relative;}div.sk-label label {font-family: monospace;font-weight: bold;background-color: white;display: inline-block;line-height: 1.2em;}div.sk-label-container {position: relative;z-index: 2;text-align: center;}div.sk-container {display: inline-block;position: relative;}</style><div class=\"sk-top-container\"><div class=\"sk-container\"><div class=\"sk-item sk-dashed-wrapped\"><div class=\"sk-label-container\"><div class=\"sk-label sk-toggleable\"><input class=\"sk-toggleable__control sk-hidden--visually\" id=\"5f630456-1426-4190-b103-c2abb0f47d02\" type=\"checkbox\" ><label class=\"sk-toggleable__label\" for=\"5f630456-1426-4190-b103-c2abb0f47d02\">Pipeline</label><div class=\"sk-toggleable__content\"><pre>Pipeline(steps=[('preprocess',\n",
       "                 ColumnTransformer(transformers=[('nominalpipe',\n",
       "                                                  Pipeline(steps=[('onehotenc',\n",
       "                                                                   OneHotEncoder(drop='first',\n",
       "                                                                                 sparse=False)),\n",
       "                                                                  ('onehotnorm',\n",
       "                                                                   StandardScaler())]),\n",
       "                                                  ['area code', 'state']),\n",
       "                                                 ('numpipe',\n",
       "                                                  Pipeline(steps=[('numnorm',\n",
       "                                                                   StandardScaler())]),\n",
       "                                                  Index(['account length', 'number vmail messages', 'total day minutes',\n",
       "       'total day calls', 'total day charge', 'total eve minutes',\n",
       "       'total eve calls', 'total eve charge', 'total night minutes',\n",
       "       'total night calls', 'total night charge', 'total intl minutes',\n",
       "       'total intl calls', 'total intl charge', 'customer service calls',\n",
       "       'international_plan', 'voice_mail_plan'],\n",
       "      dtype='object'))])),\n",
       "                ('model', RandomForestClassifier())])</pre></div></div></div><div class=\"sk-serial\"><div class=\"sk-item sk-dashed-wrapped\"><div class=\"sk-label-container\"><div class=\"sk-label sk-toggleable\"><input class=\"sk-toggleable__control sk-hidden--visually\" id=\"f3d32370-d6b0-4a9b-9bb5-22aec9e2c31b\" type=\"checkbox\" ><label class=\"sk-toggleable__label\" for=\"f3d32370-d6b0-4a9b-9bb5-22aec9e2c31b\">preprocess: ColumnTransformer</label><div class=\"sk-toggleable__content\"><pre>ColumnTransformer(transformers=[('nominalpipe',\n",
       "                                 Pipeline(steps=[('onehotenc',\n",
       "                                                  OneHotEncoder(drop='first',\n",
       "                                                                sparse=False)),\n",
       "                                                 ('onehotnorm',\n",
       "                                                  StandardScaler())]),\n",
       "                                 ['area code', 'state']),\n",
       "                                ('numpipe',\n",
       "                                 Pipeline(steps=[('numnorm',\n",
       "                                                  StandardScaler())]),\n",
       "                                 Index(['account length', 'number vmail messages', 'total day minutes',\n",
       "       'total day calls', 'total day charge', 'total eve minutes',\n",
       "       'total eve calls', 'total eve charge', 'total night minutes',\n",
       "       'total night calls', 'total night charge', 'total intl minutes',\n",
       "       'total intl calls', 'total intl charge', 'customer service calls',\n",
       "       'international_plan', 'voice_mail_plan'],\n",
       "      dtype='object'))])</pre></div></div></div><div class=\"sk-parallel\"><div class=\"sk-parallel-item\"><div class=\"sk-item\"><div class=\"sk-label-container\"><div class=\"sk-label sk-toggleable\"><input class=\"sk-toggleable__control sk-hidden--visually\" id=\"a90ee68c-7f8b-4a8a-a156-c6639182383b\" type=\"checkbox\" ><label class=\"sk-toggleable__label\" for=\"a90ee68c-7f8b-4a8a-a156-c6639182383b\">nominalpipe</label><div class=\"sk-toggleable__content\"><pre>['area code', 'state']</pre></div></div></div><div class=\"sk-serial\"><div class=\"sk-item\"><div class=\"sk-serial\"><div class=\"sk-item\"><div class=\"sk-estimator sk-toggleable\"><input class=\"sk-toggleable__control sk-hidden--visually\" id=\"3ec80668-6215-4eb0-b957-44a0ea1e9260\" type=\"checkbox\" ><label class=\"sk-toggleable__label\" for=\"3ec80668-6215-4eb0-b957-44a0ea1e9260\">OneHotEncoder</label><div class=\"sk-toggleable__content\"><pre>OneHotEncoder(drop='first', sparse=False)</pre></div></div></div><div class=\"sk-item\"><div class=\"sk-estimator sk-toggleable\"><input class=\"sk-toggleable__control sk-hidden--visually\" id=\"c9e9b042-3540-43b8-aa05-cf2b83aaf368\" type=\"checkbox\" ><label class=\"sk-toggleable__label\" for=\"c9e9b042-3540-43b8-aa05-cf2b83aaf368\">StandardScaler</label><div class=\"sk-toggleable__content\"><pre>StandardScaler()</pre></div></div></div></div></div></div></div></div><div class=\"sk-parallel-item\"><div class=\"sk-item\"><div class=\"sk-label-container\"><div class=\"sk-label sk-toggleable\"><input class=\"sk-toggleable__control sk-hidden--visually\" id=\"3f951e12-2db8-40bb-b071-585800021438\" type=\"checkbox\" ><label class=\"sk-toggleable__label\" for=\"3f951e12-2db8-40bb-b071-585800021438\">numpipe</label><div class=\"sk-toggleable__content\"><pre>Index(['account length', 'number vmail messages', 'total day minutes',\n",
       "       'total day calls', 'total day charge', 'total eve minutes',\n",
       "       'total eve calls', 'total eve charge', 'total night minutes',\n",
       "       'total night calls', 'total night charge', 'total intl minutes',\n",
       "       'total intl calls', 'total intl charge', 'customer service calls',\n",
       "       'international_plan', 'voice_mail_plan'],\n",
       "      dtype='object')</pre></div></div></div><div class=\"sk-serial\"><div class=\"sk-item\"><div class=\"sk-serial\"><div class=\"sk-item\"><div class=\"sk-estimator sk-toggleable\"><input class=\"sk-toggleable__control sk-hidden--visually\" id=\"b91450a5-6534-4fe8-8560-86f02871e826\" type=\"checkbox\" ><label class=\"sk-toggleable__label\" for=\"b91450a5-6534-4fe8-8560-86f02871e826\">StandardScaler</label><div class=\"sk-toggleable__content\"><pre>StandardScaler()</pre></div></div></div></div></div></div></div></div></div></div><div class=\"sk-item\"><div class=\"sk-estimator sk-toggleable\"><input class=\"sk-toggleable__control sk-hidden--visually\" id=\"eefa1fdb-c5ed-45a7-9c34-28c7c0b480ef\" type=\"checkbox\" ><label class=\"sk-toggleable__label\" for=\"eefa1fdb-c5ed-45a7-9c34-28c7c0b480ef\">RandomForestClassifier</label><div class=\"sk-toggleable__content\"><pre>RandomForestClassifier()</pre></div></div></div></div></div></div></div>"
      ],
      "text/plain": [
       "Pipeline(steps=[('preprocess',\n",
       "                 ColumnTransformer(transformers=[('nominalpipe',\n",
       "                                                  Pipeline(steps=[('onehotenc',\n",
       "                                                                   OneHotEncoder(drop='first',\n",
       "                                                                                 sparse=False)),\n",
       "                                                                  ('onehotnorm',\n",
       "                                                                   StandardScaler())]),\n",
       "                                                  ['area code', 'state']),\n",
       "                                                 ('numpipe',\n",
       "                                                  Pipeline(steps=[('numnorm',\n",
       "                                                                   StandardScaler())]),\n",
       "                                                  Index(['account length', 'number vmail messages', 'total day minutes',\n",
       "       'total day calls', 'total day charge', 'total eve minutes',\n",
       "       'total eve calls', 'total eve charge', 'total night minutes',\n",
       "       'total night calls', 'total night charge', 'total intl minutes',\n",
       "       'total intl calls', 'total intl charge', 'customer service calls',\n",
       "       'international_plan', 'voice_mail_plan'],\n",
       "      dtype='object'))])),\n",
       "                ('model', RandomForestClassifier())])"
      ]
     },
     "execution_count": 41,
     "metadata": {},
     "output_type": "execute_result"
    }
   ],
   "source": [
    "final_pipe.fit(X_train, y_train)"
   ]
  },
  {
   "cell_type": "code",
   "execution_count": 42,
   "metadata": {},
   "outputs": [
    {
     "data": {
      "text/plain": [
       "69"
      ]
     },
     "execution_count": 42,
     "metadata": {},
     "output_type": "execute_result"
    }
   ],
   "source": [
    "len(X_test_scaled.columns)"
   ]
  },
  {
   "cell_type": "code",
   "execution_count": 43,
   "metadata": {},
   "outputs": [],
   "source": [
    "y_pred = final_pipe.predict(X_test)"
   ]
  },
  {
   "cell_type": "code",
   "execution_count": 44,
   "metadata": {},
   "outputs": [
    {
     "data": {
      "text/plain": [
       "<sklearn.metrics._plot.confusion_matrix.ConfusionMatrixDisplay at 0x7fdd69eb3ca0>"
      ]
     },
     "execution_count": 44,
     "metadata": {},
     "output_type": "execute_result"
    },
    {
     "data": {
      "image/png": "[encoded data removed]",
      "text/plain": [
       "<Figure size 432x288 with 2 Axes>"
      ]
     },
     "metadata": {
      "needs_background": "light"
     },
     "output_type": "display_data"
    }
   ],
   "source": [
    "plot_confusion_matrix(final_pipe, X_test, y_test)"
   ]
  },
  {
   "cell_type": "code",
   "execution_count": 45,
   "metadata": {},
   "outputs": [
    {
     "name": "stdout",
     "output_type": "stream",
     "text": [
      "              precision    recall  f1-score   support\n",
      "\n",
      "           0       0.93      0.99      0.96       854\n",
      "           1       0.94      0.58      0.71       146\n",
      "\n",
      "    accuracy                           0.93      1000\n",
      "   macro avg       0.94      0.78      0.84      1000\n",
      "weighted avg       0.93      0.93      0.93      1000\n",
      "\n"
     ]
    }
   ],
   "source": [
    "print(classification_report(y_test, y_pred))"
   ]
  },
  {
   "cell_type": "code",
   "execution_count": 46,
   "metadata": {},
   "outputs": [],
   "source": [
    "# Much better than I expected, though the Random Forest model is having trouble prediciting True or 1 values in the target column."
   ]
  },
  {
   "cell_type": "code",
   "execution_count": 47,
   "metadata": {},
   "outputs": [],
   "source": [
    "rf_pipe = Pipeline([('preprocess', ct),\n",
    "                      ('model',\n",
    "                       RandomForestClassifier(n_estimators = 100, random_state=25))])"
   ]
  },
  {
   "cell_type": "code",
   "execution_count": 48,
   "metadata": {},
   "outputs": [],
   "source": [
    "rf_pipe.fit(X_train, y_train);"
   ]
  },
  {
   "cell_type": "code",
   "execution_count": 49,
   "metadata": {},
   "outputs": [],
   "source": [
    "y_rf_pred = rf_pipe.predict(X_test)"
   ]
  },
  {
   "cell_type": "code",
   "execution_count": 50,
   "metadata": {
    "scrolled": true
   },
   "outputs": [
    {
     "name": "stdout",
     "output_type": "stream",
     "text": [
      "              precision    recall  f1-score   support\n",
      "\n",
      "           0       0.93      0.99      0.96       854\n",
      "           1       0.92      0.58      0.71       146\n",
      "\n",
      "    accuracy                           0.93      1000\n",
      "   macro avg       0.93      0.79      0.84      1000\n",
      "weighted avg       0.93      0.93      0.93      1000\n",
      "\n"
     ]
    }
   ],
   "source": [
    "print(classification_report(y_test, y_rf_pred))"
   ]
  },
  {
   "cell_type": "code",
   "execution_count": 51,
   "metadata": {},
   "outputs": [
    {
     "data": {
      "text/html": [
       "<style>div.sk-top-container {color: black;background-color: white;}div.sk-toggleable {background-color: white;}label.sk-toggleable__label {cursor: pointer;display: block;width: 100%;margin-bottom: 0;padding: 0.2em 0.3em;box-sizing: border-box;text-align: center;}div.sk-toggleable__content {max-height: 0;max-width: 0;overflow: hidden;text-align: left;background-color: #f0f8ff;}div.sk-toggleable__content pre {margin: 0.2em;color: black;border-radius: 0.25em;background-color: #f0f8ff;}input.sk-toggleable__control:checked~div.sk-toggleable__content {max-height: 200px;max-width: 100%;overflow: auto;}div.sk-estimator input.sk-toggleable__control:checked~label.sk-toggleable__label {background-color: #d4ebff;}div.sk-label input.sk-toggleable__control:checked~label.sk-toggleable__label {background-color: #d4ebff;}input.sk-hidden--visually {border: 0;clip: rect(1px 1px 1px 1px);clip: rect(1px, 1px, 1px, 1px);height: 1px;margin: -1px;overflow: hidden;padding: 0;position: absolute;width: 1px;}div.sk-estimator {font-family: monospace;background-color: #f0f8ff;margin: 0.25em 0.25em;border: 1px dotted black;border-radius: 0.25em;box-sizing: border-box;}div.sk-estimator:hover {background-color: #d4ebff;}div.sk-parallel-item::after {content: \"\";width: 100%;border-bottom: 1px solid gray;flex-grow: 1;}div.sk-label:hover label.sk-toggleable__label {background-color: #d4ebff;}div.sk-serial::before {content: \"\";position: absolute;border-left: 1px solid gray;box-sizing: border-box;top: 2em;bottom: 0;left: 50%;}div.sk-serial {display: flex;flex-direction: column;align-items: center;background-color: white;}div.sk-item {z-index: 1;}div.sk-parallel {display: flex;align-items: stretch;justify-content: center;background-color: white;}div.sk-parallel-item {display: flex;flex-direction: column;position: relative;background-color: white;}div.sk-parallel-item:first-child::after {align-self: flex-end;width: 50%;}div.sk-parallel-item:last-child::after {align-self: flex-start;width: 50%;}div.sk-parallel-item:only-child::after {width: 0;}div.sk-dashed-wrapped {border: 1px dashed gray;margin: 0.2em;box-sizing: border-box;padding-bottom: 0.1em;background-color: white;position: relative;}div.sk-label label {font-family: monospace;font-weight: bold;background-color: white;display: inline-block;line-height: 1.2em;}div.sk-label-container {position: relative;z-index: 2;text-align: center;}div.sk-container {display: inline-block;position: relative;}</style><div class=\"sk-top-container\"><div class=\"sk-container\"><div class=\"sk-item sk-dashed-wrapped\"><div class=\"sk-label-container\"><div class=\"sk-label sk-toggleable\"><input class=\"sk-toggleable__control sk-hidden--visually\" id=\"a0c36621-2973-4a79-881d-b5720aa0ec8d\" type=\"checkbox\" ><label class=\"sk-toggleable__label\" for=\"a0c36621-2973-4a79-881d-b5720aa0ec8d\">GridSearchCV</label><div class=\"sk-toggleable__content\"><pre>GridSearchCV(cv=5,\n",
       "             estimator=Pipeline(steps=[('preprocess',\n",
       "                                        ColumnTransformer(transformers=[('nominalpipe',\n",
       "                                                                         Pipeline(steps=[('onehotenc',\n",
       "                                                                                          OneHotEncoder(drop='first',\n",
       "                                                                                                        sparse=False)),\n",
       "                                                                                         ('onehotnorm',\n",
       "                                                                                          StandardScaler())]),\n",
       "                                                                         ['area '\n",
       "                                                                          'code',\n",
       "                                                                          'state']),\n",
       "                                                                        ('numpipe',\n",
       "                                                                         Pipeline(steps=[('numnorm',\n",
       "                                                                                          StandardScaler())]),\n",
       "                                                                         Index(['account length', 'number vmail messages', 'total day minu...\n",
       "       'total night calls', 'total night charge', 'total intl minutes',\n",
       "       'total intl calls', 'total intl charge', 'customer service calls',\n",
       "       'international_plan', 'voice_mail_plan'],\n",
       "      dtype='object'))])),\n",
       "                                       ('model',\n",
       "                                        RandomForestClassifier(random_state=25))]),\n",
       "             param_grid={'model__max_depth': [4, 6, 8, 10, 12],\n",
       "                         'model__min_samples_leaf': [1, 3, 5],\n",
       "                         'model__min_samples_split': [1, 2, 5, 10, 12],\n",
       "                         'model__n_estimators': [20, 30, 40, 50, 100]})</pre></div></div></div><div class=\"sk-parallel\"><div class=\"sk-parallel-item\"><div class=\"sk-item\"><div class=\"sk-serial\"><div class=\"sk-item\"><div class=\"sk-serial\"><div class=\"sk-item sk-dashed-wrapped\"><div class=\"sk-label-container\"><div class=\"sk-label sk-toggleable\"><input class=\"sk-toggleable__control sk-hidden--visually\" id=\"ad28f548-2fc7-466a-9ec6-2ad4e6948e1f\" type=\"checkbox\" ><label class=\"sk-toggleable__label\" for=\"ad28f548-2fc7-466a-9ec6-2ad4e6948e1f\">preprocess: ColumnTransformer</label><div class=\"sk-toggleable__content\"><pre>ColumnTransformer(transformers=[('nominalpipe',\n",
       "                                 Pipeline(steps=[('onehotenc',\n",
       "                                                  OneHotEncoder(drop='first',\n",
       "                                                                sparse=False)),\n",
       "                                                 ('onehotnorm',\n",
       "                                                  StandardScaler())]),\n",
       "                                 ['area code', 'state']),\n",
       "                                ('numpipe',\n",
       "                                 Pipeline(steps=[('numnorm',\n",
       "                                                  StandardScaler())]),\n",
       "                                 Index(['account length', 'number vmail messages', 'total day minutes',\n",
       "       'total day calls', 'total day charge', 'total eve minutes',\n",
       "       'total eve calls', 'total eve charge', 'total night minutes',\n",
       "       'total night calls', 'total night charge', 'total intl minutes',\n",
       "       'total intl calls', 'total intl charge', 'customer service calls',\n",
       "       'international_plan', 'voice_mail_plan'],\n",
       "      dtype='object'))])</pre></div></div></div><div class=\"sk-parallel\"><div class=\"sk-parallel-item\"><div class=\"sk-item\"><div class=\"sk-label-container\"><div class=\"sk-label sk-toggleable\"><input class=\"sk-toggleable__control sk-hidden--visually\" id=\"d8e0c7c4-57d5-45d4-a8f4-a16587f7a972\" type=\"checkbox\" ><label class=\"sk-toggleable__label\" for=\"d8e0c7c4-57d5-45d4-a8f4-a16587f7a972\">nominalpipe</label><div class=\"sk-toggleable__content\"><pre>['area code', 'state']</pre></div></div></div><div class=\"sk-serial\"><div class=\"sk-item\"><div class=\"sk-serial\"><div class=\"sk-item\"><div class=\"sk-estimator sk-toggleable\"><input class=\"sk-toggleable__control sk-hidden--visually\" id=\"9fc6e9e1-c6cd-44f3-bcc2-1dd73d4550b9\" type=\"checkbox\" ><label class=\"sk-toggleable__label\" for=\"9fc6e9e1-c6cd-44f3-bcc2-1dd73d4550b9\">OneHotEncoder</label><div class=\"sk-toggleable__content\"><pre>OneHotEncoder(drop='first', sparse=False)</pre></div></div></div><div class=\"sk-item\"><div class=\"sk-estimator sk-toggleable\"><input class=\"sk-toggleable__control sk-hidden--visually\" id=\"14e492f9-3867-4cc9-a5d2-20125a7b65bf\" type=\"checkbox\" ><label class=\"sk-toggleable__label\" for=\"14e492f9-3867-4cc9-a5d2-20125a7b65bf\">StandardScaler</label><div class=\"sk-toggleable__content\"><pre>StandardScaler()</pre></div></div></div></div></div></div></div></div><div class=\"sk-parallel-item\"><div class=\"sk-item\"><div class=\"sk-label-container\"><div class=\"sk-label sk-toggleable\"><input class=\"sk-toggleable__control sk-hidden--visually\" id=\"61f65f65-922e-44a7-90e1-7389739d19bd\" type=\"checkbox\" ><label class=\"sk-toggleable__label\" for=\"61f65f65-922e-44a7-90e1-7389739d19bd\">numpipe</label><div class=\"sk-toggleable__content\"><pre>Index(['account length', 'number vmail messages', 'total day minutes',\n",
       "       'total day calls', 'total day charge', 'total eve minutes',\n",
       "       'total eve calls', 'total eve charge', 'total night minutes',\n",
       "       'total night calls', 'total night charge', 'total intl minutes',\n",
       "       'total intl calls', 'total intl charge', 'customer service calls',\n",
       "       'international_plan', 'voice_mail_plan'],\n",
       "      dtype='object')</pre></div></div></div><div class=\"sk-serial\"><div class=\"sk-item\"><div class=\"sk-serial\"><div class=\"sk-item\"><div class=\"sk-estimator sk-toggleable\"><input class=\"sk-toggleable__control sk-hidden--visually\" id=\"16692cb4-6b53-4fb2-8183-f9b251916275\" type=\"checkbox\" ><label class=\"sk-toggleable__label\" for=\"16692cb4-6b53-4fb2-8183-f9b251916275\">StandardScaler</label><div class=\"sk-toggleable__content\"><pre>StandardScaler()</pre></div></div></div></div></div></div></div></div></div></div><div class=\"sk-item\"><div class=\"sk-estimator sk-toggleable\"><input class=\"sk-toggleable__control sk-hidden--visually\" id=\"3b7d5c02-8588-4925-9129-c47f84804836\" type=\"checkbox\" ><label class=\"sk-toggleable__label\" for=\"3b7d5c02-8588-4925-9129-c47f84804836\">RandomForestClassifier</label><div class=\"sk-toggleable__content\"><pre>RandomForestClassifier(random_state=25)</pre></div></div></div></div></div></div></div></div></div></div></div></div>"
      ],
      "text/plain": [
       "GridSearchCV(cv=5,\n",
       "             estimator=Pipeline(steps=[('preprocess',\n",
       "                                        ColumnTransformer(transformers=[('nominalpipe',\n",
       "                                                                         Pipeline(steps=[('onehotenc',\n",
       "                                                                                          OneHotEncoder(drop='first',\n",
       "                                                                                                        sparse=False)),\n",
       "                                                                                         ('onehotnorm',\n",
       "                                                                                          StandardScaler())]),\n",
       "                                                                         ['area '\n",
       "                                                                          'code',\n",
       "                                                                          'state']),\n",
       "                                                                        ('numpipe',\n",
       "                                                                         Pipeline(steps=[('numnorm',\n",
       "                                                                                          StandardScaler())]),\n",
       "                                                                         Index(['account length', 'number vmail messages', 'total day minu...\n",
       "       'total night calls', 'total night charge', 'total intl minutes',\n",
       "       'total intl calls', 'total intl charge', 'customer service calls',\n",
       "       'international_plan', 'voice_mail_plan'],\n",
       "      dtype='object'))])),\n",
       "                                       ('model',\n",
       "                                        RandomForestClassifier(random_state=25))]),\n",
       "             param_grid={'model__max_depth': [4, 6, 8, 10, 12],\n",
       "                         'model__min_samples_leaf': [1, 3, 5],\n",
       "                         'model__min_samples_split': [1, 2, 5, 10, 12],\n",
       "                         'model__n_estimators': [20, 30, 40, 50, 100]})"
      ]
     },
     "execution_count": 51,
     "metadata": {},
     "output_type": "execute_result"
    }
   ],
   "source": [
    "#rf_params = {'model__n_estimators': [20, 30, 40, 50, 100], \n",
    "             'model__min_samples_leaf': [1, 3, 5], \n",
    "             'model__max_depth': [4, 6, 8, 10, 12], \n",
    "             'model__min_samples_split': [1, 2, 5, 10, 12]} \n",
    "#rf_cv = GridSearchCV(estimator = rf_pipe, param_grid = rf_params, cv = 5)"
   ]
  },
  {
   "cell_type": "code",
   "execution_count": 52,
   "metadata": {},
   "outputs": [
    {
     "data": {
      "text/plain": [
       "0.9207056271884276"
      ]
     },
     "execution_count": 52,
     "metadata": {},
     "output_type": "execute_result"
    }
   ],
   "source": [
    "rf_cv.best_score_"
   ]
  },
  {
   "cell_type": "code",
   "execution_count": 53,
   "metadata": {},
   "outputs": [
    {
     "data": {
      "text/plain": [
       "{'model__max_depth': 12,\n",
       " 'model__min_samples_leaf': 1,\n",
       " 'model__min_samples_split': 2,\n",
       " 'model__n_estimators': 40}"
      ]
     },
     "execution_count": 53,
     "metadata": {},
     "output_type": "execute_result"
    }
   ],
   "source": [
    "rf_cv.best_params_"
   ]
  },
  {
   "cell_type": "code",
   "execution_count": 54,
   "metadata": {},
   "outputs": [
    {
     "name": "stdout",
     "output_type": "stream",
     "text": [
      "{'model__max_depth': 12, 'model__min_samples_leaf': 1, 'model__min_samples_split': 2, 'model__n_estimators': 40}\n"
     ]
    }
   ],
   "source": [
    "print ({'model__max_depth': 12,\n",
    " 'model__min_samples_leaf': 1,\n",
    " 'model__min_samples_split': 2,\n",
    " 'model__n_estimators': 40})"
   ]
  },
  {
   "cell_type": "code",
   "execution_count": 55,
   "metadata": {},
   "outputs": [
    {
     "data": {
      "text/html": [
       "<style>div.sk-top-container {color: black;background-color: white;}div.sk-toggleable {background-color: white;}label.sk-toggleable__label {cursor: pointer;display: block;width: 100%;margin-bottom: 0;padding: 0.2em 0.3em;box-sizing: border-box;text-align: center;}div.sk-toggleable__content {max-height: 0;max-width: 0;overflow: hidden;text-align: left;background-color: #f0f8ff;}div.sk-toggleable__content pre {margin: 0.2em;color: black;border-radius: 0.25em;background-color: #f0f8ff;}input.sk-toggleable__control:checked~div.sk-toggleable__content {max-height: 200px;max-width: 100%;overflow: auto;}div.sk-estimator input.sk-toggleable__control:checked~label.sk-toggleable__label {background-color: #d4ebff;}div.sk-label input.sk-toggleable__control:checked~label.sk-toggleable__label {background-color: #d4ebff;}input.sk-hidden--visually {border: 0;clip: rect(1px 1px 1px 1px);clip: rect(1px, 1px, 1px, 1px);height: 1px;margin: -1px;overflow: hidden;padding: 0;position: absolute;width: 1px;}div.sk-estimator {font-family: monospace;background-color: #f0f8ff;margin: 0.25em 0.25em;border: 1px dotted black;border-radius: 0.25em;box-sizing: border-box;}div.sk-estimator:hover {background-color: #d4ebff;}div.sk-parallel-item::after {content: \"\";width: 100%;border-bottom: 1px solid gray;flex-grow: 1;}div.sk-label:hover label.sk-toggleable__label {background-color: #d4ebff;}div.sk-serial::before {content: \"\";position: absolute;border-left: 1px solid gray;box-sizing: border-box;top: 2em;bottom: 0;left: 50%;}div.sk-serial {display: flex;flex-direction: column;align-items: center;background-color: white;}div.sk-item {z-index: 1;}div.sk-parallel {display: flex;align-items: stretch;justify-content: center;background-color: white;}div.sk-parallel-item {display: flex;flex-direction: column;position: relative;background-color: white;}div.sk-parallel-item:first-child::after {align-self: flex-end;width: 50%;}div.sk-parallel-item:last-child::after {align-self: flex-start;width: 50%;}div.sk-parallel-item:only-child::after {width: 0;}div.sk-dashed-wrapped {border: 1px dashed gray;margin: 0.2em;box-sizing: border-box;padding-bottom: 0.1em;background-color: white;position: relative;}div.sk-label label {font-family: monospace;font-weight: bold;background-color: white;display: inline-block;line-height: 1.2em;}div.sk-label-container {position: relative;z-index: 2;text-align: center;}div.sk-container {display: inline-block;position: relative;}</style><div class=\"sk-top-container\"><div class=\"sk-container\"><div class=\"sk-item sk-dashed-wrapped\"><div class=\"sk-label-container\"><div class=\"sk-label sk-toggleable\"><input class=\"sk-toggleable__control sk-hidden--visually\" id=\"bc352cf5-8387-4809-881c-c435fcdcec1e\" type=\"checkbox\" ><label class=\"sk-toggleable__label\" for=\"bc352cf5-8387-4809-881c-c435fcdcec1e\">Pipeline</label><div class=\"sk-toggleable__content\"><pre>Pipeline(steps=[('preprocess',\n",
       "                 ColumnTransformer(transformers=[('nominalpipe',\n",
       "                                                  Pipeline(steps=[('onehotenc',\n",
       "                                                                   OneHotEncoder(drop='first',\n",
       "                                                                                 sparse=False)),\n",
       "                                                                  ('onehotnorm',\n",
       "                                                                   StandardScaler())]),\n",
       "                                                  ['area code', 'state']),\n",
       "                                                 ('numpipe',\n",
       "                                                  Pipeline(steps=[('numnorm',\n",
       "                                                                   StandardScaler())]),\n",
       "                                                  Index(['account length', 'number vmail messages', 'total day minutes',\n",
       "       'total day calls', 'total day charge', 'total eve minutes',\n",
       "       'total eve calls', 'total eve charge', 'total night minutes',\n",
       "       'total night calls', 'total night charge', 'total intl minutes',\n",
       "       'total intl calls', 'total intl charge', 'customer service calls',\n",
       "       'international_plan', 'voice_mail_plan'],\n",
       "      dtype='object'))])),\n",
       "                ('model',\n",
       "                 RandomForestClassifier(max_depth=12, n_estimators=40,\n",
       "                                        random_state=25))])</pre></div></div></div><div class=\"sk-serial\"><div class=\"sk-item sk-dashed-wrapped\"><div class=\"sk-label-container\"><div class=\"sk-label sk-toggleable\"><input class=\"sk-toggleable__control sk-hidden--visually\" id=\"5c3f18db-80c8-48bc-b4b3-6cca3b69a95d\" type=\"checkbox\" ><label class=\"sk-toggleable__label\" for=\"5c3f18db-80c8-48bc-b4b3-6cca3b69a95d\">preprocess: ColumnTransformer</label><div class=\"sk-toggleable__content\"><pre>ColumnTransformer(transformers=[('nominalpipe',\n",
       "                                 Pipeline(steps=[('onehotenc',\n",
       "                                                  OneHotEncoder(drop='first',\n",
       "                                                                sparse=False)),\n",
       "                                                 ('onehotnorm',\n",
       "                                                  StandardScaler())]),\n",
       "                                 ['area code', 'state']),\n",
       "                                ('numpipe',\n",
       "                                 Pipeline(steps=[('numnorm',\n",
       "                                                  StandardScaler())]),\n",
       "                                 Index(['account length', 'number vmail messages', 'total day minutes',\n",
       "       'total day calls', 'total day charge', 'total eve minutes',\n",
       "       'total eve calls', 'total eve charge', 'total night minutes',\n",
       "       'total night calls', 'total night charge', 'total intl minutes',\n",
       "       'total intl calls', 'total intl charge', 'customer service calls',\n",
       "       'international_plan', 'voice_mail_plan'],\n",
       "      dtype='object'))])</pre></div></div></div><div class=\"sk-parallel\"><div class=\"sk-parallel-item\"><div class=\"sk-item\"><div class=\"sk-label-container\"><div class=\"sk-label sk-toggleable\"><input class=\"sk-toggleable__control sk-hidden--visually\" id=\"2b380c1f-640d-4648-9f20-b42c3d4342ab\" type=\"checkbox\" ><label class=\"sk-toggleable__label\" for=\"2b380c1f-640d-4648-9f20-b42c3d4342ab\">nominalpipe</label><div class=\"sk-toggleable__content\"><pre>['area code', 'state']</pre></div></div></div><div class=\"sk-serial\"><div class=\"sk-item\"><div class=\"sk-serial\"><div class=\"sk-item\"><div class=\"sk-estimator sk-toggleable\"><input class=\"sk-toggleable__control sk-hidden--visually\" id=\"73589932-4d3e-4df3-90d8-b40c5089692a\" type=\"checkbox\" ><label class=\"sk-toggleable__label\" for=\"73589932-4d3e-4df3-90d8-b40c5089692a\">OneHotEncoder</label><div class=\"sk-toggleable__content\"><pre>OneHotEncoder(drop='first', sparse=False)</pre></div></div></div><div class=\"sk-item\"><div class=\"sk-estimator sk-toggleable\"><input class=\"sk-toggleable__control sk-hidden--visually\" id=\"41baff11-5228-4f9c-a28a-b573205bf3b8\" type=\"checkbox\" ><label class=\"sk-toggleable__label\" for=\"41baff11-5228-4f9c-a28a-b573205bf3b8\">StandardScaler</label><div class=\"sk-toggleable__content\"><pre>StandardScaler()</pre></div></div></div></div></div></div></div></div><div class=\"sk-parallel-item\"><div class=\"sk-item\"><div class=\"sk-label-container\"><div class=\"sk-label sk-toggleable\"><input class=\"sk-toggleable__control sk-hidden--visually\" id=\"b893d0cd-8d00-46e7-bd12-6bcee5a12f1a\" type=\"checkbox\" ><label class=\"sk-toggleable__label\" for=\"b893d0cd-8d00-46e7-bd12-6bcee5a12f1a\">numpipe</label><div class=\"sk-toggleable__content\"><pre>Index(['account length', 'number vmail messages', 'total day minutes',\n",
       "       'total day calls', 'total day charge', 'total eve minutes',\n",
       "       'total eve calls', 'total eve charge', 'total night minutes',\n",
       "       'total night calls', 'total night charge', 'total intl minutes',\n",
       "       'total intl calls', 'total intl charge', 'customer service calls',\n",
       "       'international_plan', 'voice_mail_plan'],\n",
       "      dtype='object')</pre></div></div></div><div class=\"sk-serial\"><div class=\"sk-item\"><div class=\"sk-serial\"><div class=\"sk-item\"><div class=\"sk-estimator sk-toggleable\"><input class=\"sk-toggleable__control sk-hidden--visually\" id=\"55fafbac-995b-454d-a5c7-389bd8baf99b\" type=\"checkbox\" ><label class=\"sk-toggleable__label\" for=\"55fafbac-995b-454d-a5c7-389bd8baf99b\">StandardScaler</label><div class=\"sk-toggleable__content\"><pre>StandardScaler()</pre></div></div></div></div></div></div></div></div></div></div><div class=\"sk-item\"><div class=\"sk-estimator sk-toggleable\"><input class=\"sk-toggleable__control sk-hidden--visually\" id=\"ef485f02-7eae-43d9-b2df-15ca53c2f9fb\" type=\"checkbox\" ><label class=\"sk-toggleable__label\" for=\"ef485f02-7eae-43d9-b2df-15ca53c2f9fb\">RandomForestClassifier</label><div class=\"sk-toggleable__content\"><pre>RandomForestClassifier(max_depth=12, n_estimators=40, random_state=25)</pre></div></div></div></div></div></div></div>"
      ],
      "text/plain": [
       "Pipeline(steps=[('preprocess',\n",
       "                 ColumnTransformer(transformers=[('nominalpipe',\n",
       "                                                  Pipeline(steps=[('onehotenc',\n",
       "                                                                   OneHotEncoder(drop='first',\n",
       "                                                                                 sparse=False)),\n",
       "                                                                  ('onehotnorm',\n",
       "                                                                   StandardScaler())]),\n",
       "                                                  ['area code', 'state']),\n",
       "                                                 ('numpipe',\n",
       "                                                  Pipeline(steps=[('numnorm',\n",
       "                                                                   StandardScaler())]),\n",
       "                                                  Index(['account length', 'number vmail messages', 'total day minutes',\n",
       "       'total day calls', 'total day charge', 'total eve minutes',\n",
       "       'total eve calls', 'total eve charge', 'total night minutes',\n",
       "       'total night calls', 'total night charge', 'total intl minutes',\n",
       "       'total intl calls', 'total intl charge', 'customer service calls',\n",
       "       'international_plan', 'voice_mail_plan'],\n",
       "      dtype='object'))])),\n",
       "                ('model',\n",
       "                 RandomForestClassifier(max_depth=12, n_estimators=40,\n",
       "                                        random_state=25))])"
      ]
     },
     "execution_count": 55,
     "metadata": {},
     "output_type": "execute_result"
    }
   ],
   "source": [
    "best_rf_model = rf_cv.best_estimator_\n",
    "best_rf_model"
   ]
  },
  {
   "cell_type": "code",
   "execution_count": 56,
   "metadata": {},
   "outputs": [
    {
     "data": {
      "text/html": [
       "<style>div.sk-top-container {color: black;background-color: white;}div.sk-toggleable {background-color: white;}label.sk-toggleable__label {cursor: pointer;display: block;width: 100%;margin-bottom: 0;padding: 0.2em 0.3em;box-sizing: border-box;text-align: center;}div.sk-toggleable__content {max-height: 0;max-width: 0;overflow: hidden;text-align: left;background-color: #f0f8ff;}div.sk-toggleable__content pre {margin: 0.2em;color: black;border-radius: 0.25em;background-color: #f0f8ff;}input.sk-toggleable__control:checked~div.sk-toggleable__content {max-height: 200px;max-width: 100%;overflow: auto;}div.sk-estimator input.sk-toggleable__control:checked~label.sk-toggleable__label {background-color: #d4ebff;}div.sk-label input.sk-toggleable__control:checked~label.sk-toggleable__label {background-color: #d4ebff;}input.sk-hidden--visually {border: 0;clip: rect(1px 1px 1px 1px);clip: rect(1px, 1px, 1px, 1px);height: 1px;margin: -1px;overflow: hidden;padding: 0;position: absolute;width: 1px;}div.sk-estimator {font-family: monospace;background-color: #f0f8ff;margin: 0.25em 0.25em;border: 1px dotted black;border-radius: 0.25em;box-sizing: border-box;}div.sk-estimator:hover {background-color: #d4ebff;}div.sk-parallel-item::after {content: \"\";width: 100%;border-bottom: 1px solid gray;flex-grow: 1;}div.sk-label:hover label.sk-toggleable__label {background-color: #d4ebff;}div.sk-serial::before {content: \"\";position: absolute;border-left: 1px solid gray;box-sizing: border-box;top: 2em;bottom: 0;left: 50%;}div.sk-serial {display: flex;flex-direction: column;align-items: center;background-color: white;}div.sk-item {z-index: 1;}div.sk-parallel {display: flex;align-items: stretch;justify-content: center;background-color: white;}div.sk-parallel-item {display: flex;flex-direction: column;position: relative;background-color: white;}div.sk-parallel-item:first-child::after {align-self: flex-end;width: 50%;}div.sk-parallel-item:last-child::after {align-self: flex-start;width: 50%;}div.sk-parallel-item:only-child::after {width: 0;}div.sk-dashed-wrapped {border: 1px dashed gray;margin: 0.2em;box-sizing: border-box;padding-bottom: 0.1em;background-color: white;position: relative;}div.sk-label label {font-family: monospace;font-weight: bold;background-color: white;display: inline-block;line-height: 1.2em;}div.sk-label-container {position: relative;z-index: 2;text-align: center;}div.sk-container {display: inline-block;position: relative;}</style><div class=\"sk-top-container\"><div class=\"sk-container\"><div class=\"sk-item sk-dashed-wrapped\"><div class=\"sk-label-container\"><div class=\"sk-label sk-toggleable\"><input class=\"sk-toggleable__control sk-hidden--visually\" id=\"0bb69f3c-3a6f-4f28-bb3a-2a8a4ad5ef4f\" type=\"checkbox\" ><label class=\"sk-toggleable__label\" for=\"0bb69f3c-3a6f-4f28-bb3a-2a8a4ad5ef4f\">Pipeline</label><div class=\"sk-toggleable__content\"><pre>Pipeline(steps=[('preprocess',\n",
       "                 ColumnTransformer(transformers=[('nominalpipe',\n",
       "                                                  Pipeline(steps=[('onehotenc',\n",
       "                                                                   OneHotEncoder(drop='first',\n",
       "                                                                                 sparse=False)),\n",
       "                                                                  ('onehotnorm',\n",
       "                                                                   StandardScaler())]),\n",
       "                                                  ['area code', 'state']),\n",
       "                                                 ('numpipe',\n",
       "                                                  Pipeline(steps=[('numnorm',\n",
       "                                                                   StandardScaler())]),\n",
       "                                                  Index(['account length', 'number vmail messages', 'total day minutes',\n",
       "       'total day calls', 'total day charge', 'total eve minutes',\n",
       "       'total eve calls', 'total eve charge', 'total night minutes',\n",
       "       'total night calls', 'total night charge', 'total intl minutes',\n",
       "       'total intl calls', 'total intl charge', 'customer service calls',\n",
       "       'international_plan', 'voice_mail_plan'],\n",
       "      dtype='object'))])),\n",
       "                ('model',\n",
       "                 RandomForestClassifier(max_depth=12, n_estimators=40,\n",
       "                                        random_state=25))])</pre></div></div></div><div class=\"sk-serial\"><div class=\"sk-item sk-dashed-wrapped\"><div class=\"sk-label-container\"><div class=\"sk-label sk-toggleable\"><input class=\"sk-toggleable__control sk-hidden--visually\" id=\"25a89fbb-c488-46b6-86ee-0f7a4b810442\" type=\"checkbox\" ><label class=\"sk-toggleable__label\" for=\"25a89fbb-c488-46b6-86ee-0f7a4b810442\">preprocess: ColumnTransformer</label><div class=\"sk-toggleable__content\"><pre>ColumnTransformer(transformers=[('nominalpipe',\n",
       "                                 Pipeline(steps=[('onehotenc',\n",
       "                                                  OneHotEncoder(drop='first',\n",
       "                                                                sparse=False)),\n",
       "                                                 ('onehotnorm',\n",
       "                                                  StandardScaler())]),\n",
       "                                 ['area code', 'state']),\n",
       "                                ('numpipe',\n",
       "                                 Pipeline(steps=[('numnorm',\n",
       "                                                  StandardScaler())]),\n",
       "                                 Index(['account length', 'number vmail messages', 'total day minutes',\n",
       "       'total day calls', 'total day charge', 'total eve minutes',\n",
       "       'total eve calls', 'total eve charge', 'total night minutes',\n",
       "       'total night calls', 'total night charge', 'total intl minutes',\n",
       "       'total intl calls', 'total intl charge', 'customer service calls',\n",
       "       'international_plan', 'voice_mail_plan'],\n",
       "      dtype='object'))])</pre></div></div></div><div class=\"sk-parallel\"><div class=\"sk-parallel-item\"><div class=\"sk-item\"><div class=\"sk-label-container\"><div class=\"sk-label sk-toggleable\"><input class=\"sk-toggleable__control sk-hidden--visually\" id=\"0f11ada5-efd2-4629-b793-a274b07af0b9\" type=\"checkbox\" ><label class=\"sk-toggleable__label\" for=\"0f11ada5-efd2-4629-b793-a274b07af0b9\">nominalpipe</label><div class=\"sk-toggleable__content\"><pre>['area code', 'state']</pre></div></div></div><div class=\"sk-serial\"><div class=\"sk-item\"><div class=\"sk-serial\"><div class=\"sk-item\"><div class=\"sk-estimator sk-toggleable\"><input class=\"sk-toggleable__control sk-hidden--visually\" id=\"c97473cc-37c7-4cad-b0d3-d255be3e5e73\" type=\"checkbox\" ><label class=\"sk-toggleable__label\" for=\"c97473cc-37c7-4cad-b0d3-d255be3e5e73\">OneHotEncoder</label><div class=\"sk-toggleable__content\"><pre>OneHotEncoder(drop='first', sparse=False)</pre></div></div></div><div class=\"sk-item\"><div class=\"sk-estimator sk-toggleable\"><input class=\"sk-toggleable__control sk-hidden--visually\" id=\"e6b29b39-c865-46bf-a295-5bb01c135665\" type=\"checkbox\" ><label class=\"sk-toggleable__label\" for=\"e6b29b39-c865-46bf-a295-5bb01c135665\">StandardScaler</label><div class=\"sk-toggleable__content\"><pre>StandardScaler()</pre></div></div></div></div></div></div></div></div><div class=\"sk-parallel-item\"><div class=\"sk-item\"><div class=\"sk-label-container\"><div class=\"sk-label sk-toggleable\"><input class=\"sk-toggleable__control sk-hidden--visually\" id=\"2eb69a34-eec1-43ca-a020-9399f05207d0\" type=\"checkbox\" ><label class=\"sk-toggleable__label\" for=\"2eb69a34-eec1-43ca-a020-9399f05207d0\">numpipe</label><div class=\"sk-toggleable__content\"><pre>Index(['account length', 'number vmail messages', 'total day minutes',\n",
       "       'total day calls', 'total day charge', 'total eve minutes',\n",
       "       'total eve calls', 'total eve charge', 'total night minutes',\n",
       "       'total night calls', 'total night charge', 'total intl minutes',\n",
       "       'total intl calls', 'total intl charge', 'customer service calls',\n",
       "       'international_plan', 'voice_mail_plan'],\n",
       "      dtype='object')</pre></div></div></div><div class=\"sk-serial\"><div class=\"sk-item\"><div class=\"sk-serial\"><div class=\"sk-item\"><div class=\"sk-estimator sk-toggleable\"><input class=\"sk-toggleable__control sk-hidden--visually\" id=\"5059b7ec-5c2c-4fce-9300-216e3d4d1617\" type=\"checkbox\" ><label class=\"sk-toggleable__label\" for=\"5059b7ec-5c2c-4fce-9300-216e3d4d1617\">StandardScaler</label><div class=\"sk-toggleable__content\"><pre>StandardScaler()</pre></div></div></div></div></div></div></div></div></div></div><div class=\"sk-item\"><div class=\"sk-estimator sk-toggleable\"><input class=\"sk-toggleable__control sk-hidden--visually\" id=\"77e2d055-8aa6-4c63-87a2-c7af48a8133b\" type=\"checkbox\" ><label class=\"sk-toggleable__label\" for=\"77e2d055-8aa6-4c63-87a2-c7af48a8133b\">RandomForestClassifier</label><div class=\"sk-toggleable__content\"><pre>RandomForestClassifier(max_depth=12, n_estimators=40, random_state=25)</pre></div></div></div></div></div></div></div>"
      ],
      "text/plain": [
       "Pipeline(steps=[('preprocess',\n",
       "                 ColumnTransformer(transformers=[('nominalpipe',\n",
       "                                                  Pipeline(steps=[('onehotenc',\n",
       "                                                                   OneHotEncoder(drop='first',\n",
       "                                                                                 sparse=False)),\n",
       "                                                                  ('onehotnorm',\n",
       "                                                                   StandardScaler())]),\n",
       "                                                  ['area code', 'state']),\n",
       "                                                 ('numpipe',\n",
       "                                                  Pipeline(steps=[('numnorm',\n",
       "                                                                   StandardScaler())]),\n",
       "                                                  Index(['account length', 'number vmail messages', 'total day minutes',\n",
       "       'total day calls', 'total day charge', 'total eve minutes',\n",
       "       'total eve calls', 'total eve charge', 'total night minutes',\n",
       "       'total night calls', 'total night charge', 'total intl minutes',\n",
       "       'total intl calls', 'total intl charge', 'customer service calls',\n",
       "       'international_plan', 'voice_mail_plan'],\n",
       "      dtype='object'))])),\n",
       "                ('model',\n",
       "                 RandomForestClassifier(max_depth=12, n_estimators=40,\n",
       "                                        random_state=25))])"
      ]
     },
     "execution_count": 56,
     "metadata": {},
     "output_type": "execute_result"
    }
   ],
   "source": [
    "best_rf_model.fit(X_train, y_train)"
   ]
  },
  {
   "cell_type": "code",
   "execution_count": 57,
   "metadata": {},
   "outputs": [
    {
     "name": "stdout",
     "output_type": "stream",
     "text": [
      "              precision    recall  f1-score   support\n",
      "\n",
      "           0       0.92      1.00      0.96       854\n",
      "           1       0.95      0.48      0.64       146\n",
      "\n",
      "    accuracy                           0.92      1000\n",
      "   macro avg       0.93      0.74      0.80      1000\n",
      "weighted avg       0.92      0.92      0.91      1000\n",
      "\n"
     ]
    }
   ],
   "source": [
    "y_rfcv_pred = best_rf_model.predict(X_test)\n",
    "print(classification_report(y_test,y_rfcv_pred))"
   ]
  },
  {
   "cell_type": "code",
   "execution_count": null,
   "metadata": {},
   "outputs": [],
   "source": [
    "feat_imp = best_rf_model['model'].feature_importances_\n",
    "\n",
    "feat_imp_series = pd.Series(feat_imp, \n",
    "          index = X_test_scaled.columns).sort_values(\n",
    "    ascending = False)"
   ]
  },
  {
   "cell_type": "code",
   "execution_count": null,
   "metadata": {},
   "outputs": [],
   "source": [
    "feat_imp_series.head(30)"
   ]
  },
  {
   "cell_type": "code",
   "execution_count": null,
   "metadata": {},
   "outputs": [],
   "source": [
    "figsize = (20,20)\n",
    "feat_imp_series.plot(kind = 'bar')"
   ]
  },
  {
   "cell_type": "code",
   "execution_count": 61,
   "metadata": {},
   "outputs": [],
   "source": [
    "from imblearn.pipeline import Pipeline\n",
    "from imblearn.over_sampling import SMOTE\n",
    "from imblearn.under_sampling import RandomUnderSampler"
   ]
  },
  {
   "cell_type": "code",
   "execution_count": 60,
   "metadata": {},
   "outputs": [
    {
     "ename": "ValueError",
     "evalue": "could not convert string to float: 'VA'",
     "output_type": "error",
     "traceback": [
      "\u001b[0;31m---------------------------------------------------------------------------\u001b[0m",
      "\u001b[0;31mValueError\u001b[0m                                Traceback (most recent call last)",
      "\u001b[0;32m<ipython-input-60-b0c59bb34828>\u001b[0m in \u001b[0;36m<module>\u001b[0;34m\u001b[0m\n\u001b[0;32m----> 1\u001b[0;31m \u001b[0mX_train_resampled\u001b[0m\u001b[0;34m,\u001b[0m \u001b[0my_train_resampled\u001b[0m \u001b[0;34m=\u001b[0m \u001b[0mSMOTE\u001b[0m\u001b[0;34m(\u001b[0m\u001b[0;34m)\u001b[0m\u001b[0;34m.\u001b[0m\u001b[0mfit_resample\u001b[0m\u001b[0;34m(\u001b[0m\u001b[0mX_train\u001b[0m\u001b[0;34m,\u001b[0m \u001b[0my_train\u001b[0m\u001b[0;34m)\u001b[0m\u001b[0;34m\u001b[0m\u001b[0;34m\u001b[0m\u001b[0m\n\u001b[0m",
      "\u001b[0;32m~/opt/anaconda3/envs/learn-env/lib/python3.8/site-packages/imblearn/base.py\u001b[0m in \u001b[0;36mfit_resample\u001b[0;34m(self, X, y)\u001b[0m\n\u001b[1;32m     75\u001b[0m         \u001b[0mcheck_classification_targets\u001b[0m\u001b[0;34m(\u001b[0m\u001b[0my\u001b[0m\u001b[0;34m)\u001b[0m\u001b[0;34m\u001b[0m\u001b[0;34m\u001b[0m\u001b[0m\n\u001b[1;32m     76\u001b[0m         \u001b[0marrays_transformer\u001b[0m \u001b[0;34m=\u001b[0m \u001b[0mArraysTransformer\u001b[0m\u001b[0;34m(\u001b[0m\u001b[0mX\u001b[0m\u001b[0;34m,\u001b[0m \u001b[0my\u001b[0m\u001b[0;34m)\u001b[0m\u001b[0;34m\u001b[0m\u001b[0;34m\u001b[0m\u001b[0m\n\u001b[0;32m---> 77\u001b[0;31m         \u001b[0mX\u001b[0m\u001b[0;34m,\u001b[0m \u001b[0my\u001b[0m\u001b[0;34m,\u001b[0m \u001b[0mbinarize_y\u001b[0m \u001b[0;34m=\u001b[0m \u001b[0mself\u001b[0m\u001b[0;34m.\u001b[0m\u001b[0m_check_X_y\u001b[0m\u001b[0;34m(\u001b[0m\u001b[0mX\u001b[0m\u001b[0;34m,\u001b[0m \u001b[0my\u001b[0m\u001b[0;34m)\u001b[0m\u001b[0;34m\u001b[0m\u001b[0;34m\u001b[0m\u001b[0m\n\u001b[0m\u001b[1;32m     78\u001b[0m \u001b[0;34m\u001b[0m\u001b[0m\n\u001b[1;32m     79\u001b[0m         self.sampling_strategy_ = check_sampling_strategy(\n",
      "\u001b[0;32m~/opt/anaconda3/envs/learn-env/lib/python3.8/site-packages/imblearn/base.py\u001b[0m in \u001b[0;36m_check_X_y\u001b[0;34m(self, X, y, accept_sparse)\u001b[0m\n\u001b[1;32m    132\u001b[0m             \u001b[0maccept_sparse\u001b[0m \u001b[0;34m=\u001b[0m \u001b[0;34m[\u001b[0m\u001b[0;34m\"csr\"\u001b[0m\u001b[0;34m,\u001b[0m \u001b[0;34m\"csc\"\u001b[0m\u001b[0;34m]\u001b[0m\u001b[0;34m\u001b[0m\u001b[0;34m\u001b[0m\u001b[0m\n\u001b[1;32m    133\u001b[0m         \u001b[0my\u001b[0m\u001b[0;34m,\u001b[0m \u001b[0mbinarize_y\u001b[0m \u001b[0;34m=\u001b[0m \u001b[0mcheck_target_type\u001b[0m\u001b[0;34m(\u001b[0m\u001b[0my\u001b[0m\u001b[0;34m,\u001b[0m \u001b[0mindicate_one_vs_all\u001b[0m\u001b[0;34m=\u001b[0m\u001b[0;32mTrue\u001b[0m\u001b[0;34m)\u001b[0m\u001b[0;34m\u001b[0m\u001b[0;34m\u001b[0m\u001b[0m\n\u001b[0;32m--> 134\u001b[0;31m         X, y = self._validate_data(\n\u001b[0m\u001b[1;32m    135\u001b[0m             \u001b[0mX\u001b[0m\u001b[0;34m,\u001b[0m \u001b[0my\u001b[0m\u001b[0;34m,\u001b[0m \u001b[0mreset\u001b[0m\u001b[0;34m=\u001b[0m\u001b[0;32mTrue\u001b[0m\u001b[0;34m,\u001b[0m \u001b[0maccept_sparse\u001b[0m\u001b[0;34m=\u001b[0m\u001b[0maccept_sparse\u001b[0m\u001b[0;34m\u001b[0m\u001b[0;34m\u001b[0m\u001b[0m\n\u001b[1;32m    136\u001b[0m         )\n",
      "\u001b[0;32m~/opt/anaconda3/envs/learn-env/lib/python3.8/site-packages/sklearn/base.py\u001b[0m in \u001b[0;36m_validate_data\u001b[0;34m(self, X, y, reset, validate_separately, **check_params)\u001b[0m\n\u001b[1;32m    430\u001b[0m                 \u001b[0my\u001b[0m \u001b[0;34m=\u001b[0m \u001b[0mcheck_array\u001b[0m\u001b[0;34m(\u001b[0m\u001b[0my\u001b[0m\u001b[0;34m,\u001b[0m \u001b[0;34m**\u001b[0m\u001b[0mcheck_y_params\u001b[0m\u001b[0;34m)\u001b[0m\u001b[0;34m\u001b[0m\u001b[0;34m\u001b[0m\u001b[0m\n\u001b[1;32m    431\u001b[0m             \u001b[0;32melse\u001b[0m\u001b[0;34m:\u001b[0m\u001b[0;34m\u001b[0m\u001b[0;34m\u001b[0m\u001b[0m\n\u001b[0;32m--> 432\u001b[0;31m                 \u001b[0mX\u001b[0m\u001b[0;34m,\u001b[0m \u001b[0my\u001b[0m \u001b[0;34m=\u001b[0m \u001b[0mcheck_X_y\u001b[0m\u001b[0;34m(\u001b[0m\u001b[0mX\u001b[0m\u001b[0;34m,\u001b[0m \u001b[0my\u001b[0m\u001b[0;34m,\u001b[0m \u001b[0;34m**\u001b[0m\u001b[0mcheck_params\u001b[0m\u001b[0;34m)\u001b[0m\u001b[0;34m\u001b[0m\u001b[0;34m\u001b[0m\u001b[0m\n\u001b[0m\u001b[1;32m    433\u001b[0m             \u001b[0mout\u001b[0m \u001b[0;34m=\u001b[0m \u001b[0mX\u001b[0m\u001b[0;34m,\u001b[0m \u001b[0my\u001b[0m\u001b[0;34m\u001b[0m\u001b[0;34m\u001b[0m\u001b[0m\n\u001b[1;32m    434\u001b[0m \u001b[0;34m\u001b[0m\u001b[0m\n",
      "\u001b[0;32m~/opt/anaconda3/envs/learn-env/lib/python3.8/site-packages/sklearn/utils/validation.py\u001b[0m in \u001b[0;36minner_f\u001b[0;34m(*args, **kwargs)\u001b[0m\n\u001b[1;32m     70\u001b[0m                           FutureWarning)\n\u001b[1;32m     71\u001b[0m         \u001b[0mkwargs\u001b[0m\u001b[0;34m.\u001b[0m\u001b[0mupdate\u001b[0m\u001b[0;34m(\u001b[0m\u001b[0;34m{\u001b[0m\u001b[0mk\u001b[0m\u001b[0;34m:\u001b[0m \u001b[0marg\u001b[0m \u001b[0;32mfor\u001b[0m \u001b[0mk\u001b[0m\u001b[0;34m,\u001b[0m \u001b[0marg\u001b[0m \u001b[0;32min\u001b[0m \u001b[0mzip\u001b[0m\u001b[0;34m(\u001b[0m\u001b[0msig\u001b[0m\u001b[0;34m.\u001b[0m\u001b[0mparameters\u001b[0m\u001b[0;34m,\u001b[0m \u001b[0margs\u001b[0m\u001b[0;34m)\u001b[0m\u001b[0;34m}\u001b[0m\u001b[0;34m)\u001b[0m\u001b[0;34m\u001b[0m\u001b[0;34m\u001b[0m\u001b[0m\n\u001b[0;32m---> 72\u001b[0;31m         \u001b[0;32mreturn\u001b[0m \u001b[0mf\u001b[0m\u001b[0;34m(\u001b[0m\u001b[0;34m**\u001b[0m\u001b[0mkwargs\u001b[0m\u001b[0;34m)\u001b[0m\u001b[0;34m\u001b[0m\u001b[0;34m\u001b[0m\u001b[0m\n\u001b[0m\u001b[1;32m     73\u001b[0m     \u001b[0;32mreturn\u001b[0m \u001b[0minner_f\u001b[0m\u001b[0;34m\u001b[0m\u001b[0;34m\u001b[0m\u001b[0m\n\u001b[1;32m     74\u001b[0m \u001b[0;34m\u001b[0m\u001b[0m\n",
      "\u001b[0;32m~/opt/anaconda3/envs/learn-env/lib/python3.8/site-packages/sklearn/utils/validation.py\u001b[0m in \u001b[0;36mcheck_X_y\u001b[0;34m(X, y, accept_sparse, accept_large_sparse, dtype, order, copy, force_all_finite, ensure_2d, allow_nd, multi_output, ensure_min_samples, ensure_min_features, y_numeric, estimator)\u001b[0m\n\u001b[1;32m    793\u001b[0m         \u001b[0;32mraise\u001b[0m \u001b[0mValueError\u001b[0m\u001b[0;34m(\u001b[0m\u001b[0;34m\"y cannot be None\"\u001b[0m\u001b[0;34m)\u001b[0m\u001b[0;34m\u001b[0m\u001b[0;34m\u001b[0m\u001b[0m\n\u001b[1;32m    794\u001b[0m \u001b[0;34m\u001b[0m\u001b[0m\n\u001b[0;32m--> 795\u001b[0;31m     X = check_array(X, accept_sparse=accept_sparse,\n\u001b[0m\u001b[1;32m    796\u001b[0m                     \u001b[0maccept_large_sparse\u001b[0m\u001b[0;34m=\u001b[0m\u001b[0maccept_large_sparse\u001b[0m\u001b[0;34m,\u001b[0m\u001b[0;34m\u001b[0m\u001b[0;34m\u001b[0m\u001b[0m\n\u001b[1;32m    797\u001b[0m                     \u001b[0mdtype\u001b[0m\u001b[0;34m=\u001b[0m\u001b[0mdtype\u001b[0m\u001b[0;34m,\u001b[0m \u001b[0morder\u001b[0m\u001b[0;34m=\u001b[0m\u001b[0morder\u001b[0m\u001b[0;34m,\u001b[0m \u001b[0mcopy\u001b[0m\u001b[0;34m=\u001b[0m\u001b[0mcopy\u001b[0m\u001b[0;34m,\u001b[0m\u001b[0;34m\u001b[0m\u001b[0;34m\u001b[0m\u001b[0m\n",
      "\u001b[0;32m~/opt/anaconda3/envs/learn-env/lib/python3.8/site-packages/sklearn/utils/validation.py\u001b[0m in \u001b[0;36minner_f\u001b[0;34m(*args, **kwargs)\u001b[0m\n\u001b[1;32m     70\u001b[0m                           FutureWarning)\n\u001b[1;32m     71\u001b[0m         \u001b[0mkwargs\u001b[0m\u001b[0;34m.\u001b[0m\u001b[0mupdate\u001b[0m\u001b[0;34m(\u001b[0m\u001b[0;34m{\u001b[0m\u001b[0mk\u001b[0m\u001b[0;34m:\u001b[0m \u001b[0marg\u001b[0m \u001b[0;32mfor\u001b[0m \u001b[0mk\u001b[0m\u001b[0;34m,\u001b[0m \u001b[0marg\u001b[0m \u001b[0;32min\u001b[0m \u001b[0mzip\u001b[0m\u001b[0;34m(\u001b[0m\u001b[0msig\u001b[0m\u001b[0;34m.\u001b[0m\u001b[0mparameters\u001b[0m\u001b[0;34m,\u001b[0m \u001b[0margs\u001b[0m\u001b[0;34m)\u001b[0m\u001b[0;34m}\u001b[0m\u001b[0;34m)\u001b[0m\u001b[0;34m\u001b[0m\u001b[0;34m\u001b[0m\u001b[0m\n\u001b[0;32m---> 72\u001b[0;31m         \u001b[0;32mreturn\u001b[0m \u001b[0mf\u001b[0m\u001b[0;34m(\u001b[0m\u001b[0;34m**\u001b[0m\u001b[0mkwargs\u001b[0m\u001b[0;34m)\u001b[0m\u001b[0;34m\u001b[0m\u001b[0;34m\u001b[0m\u001b[0m\n\u001b[0m\u001b[1;32m     73\u001b[0m     \u001b[0;32mreturn\u001b[0m \u001b[0minner_f\u001b[0m\u001b[0;34m\u001b[0m\u001b[0;34m\u001b[0m\u001b[0m\n\u001b[1;32m     74\u001b[0m \u001b[0;34m\u001b[0m\u001b[0m\n",
      "\u001b[0;32m~/opt/anaconda3/envs/learn-env/lib/python3.8/site-packages/sklearn/utils/validation.py\u001b[0m in \u001b[0;36mcheck_array\u001b[0;34m(array, accept_sparse, accept_large_sparse, dtype, order, copy, force_all_finite, ensure_2d, allow_nd, ensure_min_samples, ensure_min_features, estimator)\u001b[0m\n\u001b[1;32m    596\u001b[0m                     \u001b[0marray\u001b[0m \u001b[0;34m=\u001b[0m \u001b[0marray\u001b[0m\u001b[0;34m.\u001b[0m\u001b[0mastype\u001b[0m\u001b[0;34m(\u001b[0m\u001b[0mdtype\u001b[0m\u001b[0;34m,\u001b[0m \u001b[0mcasting\u001b[0m\u001b[0;34m=\u001b[0m\u001b[0;34m\"unsafe\"\u001b[0m\u001b[0;34m,\u001b[0m \u001b[0mcopy\u001b[0m\u001b[0;34m=\u001b[0m\u001b[0;32mFalse\u001b[0m\u001b[0;34m)\u001b[0m\u001b[0;34m\u001b[0m\u001b[0;34m\u001b[0m\u001b[0m\n\u001b[1;32m    597\u001b[0m                 \u001b[0;32melse\u001b[0m\u001b[0;34m:\u001b[0m\u001b[0;34m\u001b[0m\u001b[0;34m\u001b[0m\u001b[0m\n\u001b[0;32m--> 598\u001b[0;31m                     \u001b[0marray\u001b[0m \u001b[0;34m=\u001b[0m \u001b[0mnp\u001b[0m\u001b[0;34m.\u001b[0m\u001b[0masarray\u001b[0m\u001b[0;34m(\u001b[0m\u001b[0marray\u001b[0m\u001b[0;34m,\u001b[0m \u001b[0morder\u001b[0m\u001b[0;34m=\u001b[0m\u001b[0morder\u001b[0m\u001b[0;34m,\u001b[0m \u001b[0mdtype\u001b[0m\u001b[0;34m=\u001b[0m\u001b[0mdtype\u001b[0m\u001b[0;34m)\u001b[0m\u001b[0;34m\u001b[0m\u001b[0;34m\u001b[0m\u001b[0m\n\u001b[0m\u001b[1;32m    599\u001b[0m             \u001b[0;32mexcept\u001b[0m \u001b[0mComplexWarning\u001b[0m\u001b[0;34m:\u001b[0m\u001b[0;34m\u001b[0m\u001b[0;34m\u001b[0m\u001b[0m\n\u001b[1;32m    600\u001b[0m                 raise ValueError(\"Complex data not supported\\n\"\n",
      "\u001b[0;32m~/opt/anaconda3/envs/learn-env/lib/python3.8/site-packages/numpy/core/_asarray.py\u001b[0m in \u001b[0;36masarray\u001b[0;34m(a, dtype, order)\u001b[0m\n\u001b[1;32m     83\u001b[0m \u001b[0;34m\u001b[0m\u001b[0m\n\u001b[1;32m     84\u001b[0m     \"\"\"\n\u001b[0;32m---> 85\u001b[0;31m     \u001b[0;32mreturn\u001b[0m \u001b[0marray\u001b[0m\u001b[0;34m(\u001b[0m\u001b[0ma\u001b[0m\u001b[0;34m,\u001b[0m \u001b[0mdtype\u001b[0m\u001b[0;34m,\u001b[0m \u001b[0mcopy\u001b[0m\u001b[0;34m=\u001b[0m\u001b[0;32mFalse\u001b[0m\u001b[0;34m,\u001b[0m \u001b[0morder\u001b[0m\u001b[0;34m=\u001b[0m\u001b[0morder\u001b[0m\u001b[0;34m)\u001b[0m\u001b[0;34m\u001b[0m\u001b[0;34m\u001b[0m\u001b[0m\n\u001b[0m\u001b[1;32m     86\u001b[0m \u001b[0;34m\u001b[0m\u001b[0m\n\u001b[1;32m     87\u001b[0m \u001b[0;34m\u001b[0m\u001b[0m\n",
      "\u001b[0;32m~/opt/anaconda3/envs/learn-env/lib/python3.8/site-packages/pandas/core/generic.py\u001b[0m in \u001b[0;36m__array__\u001b[0;34m(self, dtype)\u001b[0m\n\u001b[1;32m   1779\u001b[0m \u001b[0;34m\u001b[0m\u001b[0m\n\u001b[1;32m   1780\u001b[0m     \u001b[0;32mdef\u001b[0m \u001b[0m__array__\u001b[0m\u001b[0;34m(\u001b[0m\u001b[0mself\u001b[0m\u001b[0;34m,\u001b[0m \u001b[0mdtype\u001b[0m\u001b[0;34m=\u001b[0m\u001b[0;32mNone\u001b[0m\u001b[0;34m)\u001b[0m \u001b[0;34m->\u001b[0m \u001b[0mnp\u001b[0m\u001b[0;34m.\u001b[0m\u001b[0mndarray\u001b[0m\u001b[0;34m:\u001b[0m\u001b[0;34m\u001b[0m\u001b[0;34m\u001b[0m\u001b[0m\n\u001b[0;32m-> 1781\u001b[0;31m         \u001b[0;32mreturn\u001b[0m \u001b[0mnp\u001b[0m\u001b[0;34m.\u001b[0m\u001b[0masarray\u001b[0m\u001b[0;34m(\u001b[0m\u001b[0mself\u001b[0m\u001b[0;34m.\u001b[0m\u001b[0m_values\u001b[0m\u001b[0;34m,\u001b[0m \u001b[0mdtype\u001b[0m\u001b[0;34m=\u001b[0m\u001b[0mdtype\u001b[0m\u001b[0;34m)\u001b[0m\u001b[0;34m\u001b[0m\u001b[0;34m\u001b[0m\u001b[0m\n\u001b[0m\u001b[1;32m   1782\u001b[0m \u001b[0;34m\u001b[0m\u001b[0m\n\u001b[1;32m   1783\u001b[0m     \u001b[0;32mdef\u001b[0m \u001b[0m__array_wrap__\u001b[0m\u001b[0;34m(\u001b[0m\u001b[0mself\u001b[0m\u001b[0;34m,\u001b[0m \u001b[0mresult\u001b[0m\u001b[0;34m,\u001b[0m \u001b[0mcontext\u001b[0m\u001b[0;34m=\u001b[0m\u001b[0;32mNone\u001b[0m\u001b[0;34m)\u001b[0m\u001b[0;34m:\u001b[0m\u001b[0;34m\u001b[0m\u001b[0;34m\u001b[0m\u001b[0m\n",
      "\u001b[0;32m~/opt/anaconda3/envs/learn-env/lib/python3.8/site-packages/numpy/core/_asarray.py\u001b[0m in \u001b[0;36masarray\u001b[0;34m(a, dtype, order)\u001b[0m\n\u001b[1;32m     83\u001b[0m \u001b[0;34m\u001b[0m\u001b[0m\n\u001b[1;32m     84\u001b[0m     \"\"\"\n\u001b[0;32m---> 85\u001b[0;31m     \u001b[0;32mreturn\u001b[0m \u001b[0marray\u001b[0m\u001b[0;34m(\u001b[0m\u001b[0ma\u001b[0m\u001b[0;34m,\u001b[0m \u001b[0mdtype\u001b[0m\u001b[0;34m,\u001b[0m \u001b[0mcopy\u001b[0m\u001b[0;34m=\u001b[0m\u001b[0;32mFalse\u001b[0m\u001b[0;34m,\u001b[0m \u001b[0morder\u001b[0m\u001b[0;34m=\u001b[0m\u001b[0morder\u001b[0m\u001b[0;34m)\u001b[0m\u001b[0;34m\u001b[0m\u001b[0;34m\u001b[0m\u001b[0m\n\u001b[0m\u001b[1;32m     86\u001b[0m \u001b[0;34m\u001b[0m\u001b[0m\n\u001b[1;32m     87\u001b[0m \u001b[0;34m\u001b[0m\u001b[0m\n",
      "\u001b[0;31mValueError\u001b[0m: could not convert string to float: 'VA'"
     ]
    }
   ],
   "source": [
    "X_train_resampled, y_train_resampled = SMOTE().fit_resample(X_train, y_train) "
   ]
  },
  {
   "cell_type": "code",
   "execution_count": 95,
   "metadata": {},
   "outputs": [],
   "source": [
    "model = RandomForestClassifier(max_depth=12, n_estimators=40, random_state=25)\n",
    "over = SMOTE(sampling_strategy=0.25)\n",
    "under = RandomUnderSampler(sampling_strategy=0.5)\n",
    "steps = [('preprocess', ct), ('over', over), ('under', under), ('model', model)]\n",
    "newpipeline = Pipeline(steps=steps)"
   ]
  },
  {
   "cell_type": "code",
   "execution_count": 96,
   "metadata": {},
   "outputs": [
    {
     "name": "stdout",
     "output_type": "stream",
     "text": [
      "              precision    recall  f1-score   support\n",
      "\n",
      "           0       0.95      0.97      0.96       854\n",
      "           1       0.80      0.70      0.75       146\n",
      "\n",
      "    accuracy                           0.93      1000\n",
      "   macro avg       0.88      0.83      0.85      1000\n",
      "weighted avg       0.93      0.93      0.93      1000\n",
      "\n"
     ]
    }
   ],
   "source": [
    "newpipeline.fit(X_train, y_train);\n",
    "y_rfn_pred = newpipeline.predict(X_test)\n",
    "print(classification_report(y_test, y_rfn_pred))"
   ]
  },
  {
   "cell_type": "code",
   "execution_count": 97,
   "metadata": {},
   "outputs": [
    {
     "data": {
      "text/plain": [
       "0    854\n",
       "1    146\n",
       "Name: churn_num, dtype: int64"
      ]
     },
     "execution_count": 97,
     "metadata": {},
     "output_type": "execute_result"
    }
   ],
   "source": [
    "y_test.value_counts()"
   ]
  },
  {
   "cell_type": "code",
   "execution_count": 98,
   "metadata": {},
   "outputs": [
    {
     "data": {
      "text/plain": [
       "<sklearn.metrics._plot.confusion_matrix.ConfusionMatrixDisplay at 0x7fdd38060dc0>"
      ]
     },
     "execution_count": 98,
     "metadata": {},
     "output_type": "execute_result"
    },
    {
     "data": {
      "image/png": "[encoded data removed]",
      "text/plain": [
       "<Figure size 432x288 with 2 Axes>"
      ]
     },
     "metadata": {
      "needs_background": "light"
     },
     "output_type": "display_data"
    }
   ],
   "source": [
    "plot_confusion_matrix(newpipeline, X_test, y_test)"
   ]
  },
  {
   "cell_type": "code",
   "execution_count": null,
   "metadata": {},
   "outputs": [],
   "source": []
  }
 ],
 "metadata": {
  "kernelspec": {
   "display_name": "Python (learn-env)",
   "language": "python",
   "name": "learn-env"
  },
  "language_info": {
   "codemirror_mode": {
    "name": "ipython",
    "version": 3
   },
   "file_extension": ".py",
   "mimetype": "text/x-python",
   "name": "python",
   "nbconvert_exporter": "python",
   "pygments_lexer": "ipython3",
   "version": "3.8.5"
  }
 },
 "nbformat": 4,
 "nbformat_minor": 4
}
